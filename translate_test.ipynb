{
 "cells": [
  {
   "cell_type": "code",
   "id": "initial_id",
   "metadata": {
    "collapsed": true,
    "ExecuteTime": {
     "end_time": "2024-10-15T21:09:37.178606Z",
     "start_time": "2024-10-15T21:09:36.826094Z"
    }
   },
   "source": [
    "\n",
    "import os\n",
    "from dotenv import load_dotenv\n",
    "from libs.community.langchain_community.tools.azure_ai_services.translate_tool import AzureTranslateTool\n",
    "from langchain_core.prompts import PromptTemplate\n",
    "\n",
    "load_dotenv()"
   ],
   "outputs": [
    {
     "ename": "ModuleNotFoundError",
     "evalue": "No module named 'langchain_community'",
     "output_type": "error",
     "traceback": [
      "\u001B[1;31m---------------------------------------------------------------------------\u001B[0m",
      "\u001B[1;31mModuleNotFoundError\u001B[0m                       Traceback (most recent call last)",
      "Cell \u001B[1;32mIn[1], line 3\u001B[0m\n\u001B[0;32m      1\u001B[0m \u001B[38;5;28;01mimport\u001B[39;00m \u001B[38;5;21;01mos\u001B[39;00m\n\u001B[0;32m      2\u001B[0m \u001B[38;5;28;01mfrom\u001B[39;00m \u001B[38;5;21;01mdotenv\u001B[39;00m \u001B[38;5;28;01mimport\u001B[39;00m load_dotenv\n\u001B[1;32m----> 3\u001B[0m \u001B[38;5;28;01mfrom\u001B[39;00m \u001B[38;5;21;01mlibs\u001B[39;00m\u001B[38;5;21;01m.\u001B[39;00m\u001B[38;5;21;01mcommunity\u001B[39;00m\u001B[38;5;21;01m.\u001B[39;00m\u001B[38;5;21;01mlangchain_community\u001B[39;00m\u001B[38;5;21;01m.\u001B[39;00m\u001B[38;5;21;01mtools\u001B[39;00m\u001B[38;5;21;01m.\u001B[39;00m\u001B[38;5;21;01mazure_ai_services\u001B[39;00m\u001B[38;5;21;01m.\u001B[39;00m\u001B[38;5;21;01mtranslate_tool\u001B[39;00m \u001B[38;5;28;01mimport\u001B[39;00m AzureTranslateTool\n\u001B[0;32m      4\u001B[0m \u001B[38;5;28;01mfrom\u001B[39;00m \u001B[38;5;21;01mlangchain_core\u001B[39;00m\u001B[38;5;21;01m.\u001B[39;00m\u001B[38;5;21;01mprompts\u001B[39;00m \u001B[38;5;28;01mimport\u001B[39;00m PromptTemplate\n\u001B[0;32m      6\u001B[0m load_dotenv()\n",
      "File \u001B[1;32mF:\\pycharm\\langchain project\\libs\\community\\langchain_community\\tools\\azure_ai_services\\__init__.py:3\u001B[0m\n\u001B[0;32m      1\u001B[0m \u001B[38;5;124;03m\"\"\"Azure AI Services Tools.\"\"\"\u001B[39;00m\n\u001B[1;32m----> 3\u001B[0m \u001B[38;5;28;01mfrom\u001B[39;00m \u001B[38;5;21;01mlangchain_community\u001B[39;00m\u001B[38;5;21;01m.\u001B[39;00m\u001B[38;5;21;01mtools\u001B[39;00m\u001B[38;5;21;01m.\u001B[39;00m\u001B[38;5;21;01mazure_ai_services\u001B[39;00m\u001B[38;5;21;01m.\u001B[39;00m\u001B[38;5;21;01mdocument_intelligence\u001B[39;00m \u001B[38;5;28;01mimport\u001B[39;00m (\n\u001B[0;32m      4\u001B[0m     AzureAiServicesDocumentIntelligenceTool,\n\u001B[0;32m      5\u001B[0m )\n\u001B[0;32m      6\u001B[0m \u001B[38;5;28;01mfrom\u001B[39;00m \u001B[38;5;21;01mlangchain_community\u001B[39;00m\u001B[38;5;21;01m.\u001B[39;00m\u001B[38;5;21;01mtools\u001B[39;00m\u001B[38;5;21;01m.\u001B[39;00m\u001B[38;5;21;01mazure_ai_services\u001B[39;00m\u001B[38;5;21;01m.\u001B[39;00m\u001B[38;5;21;01mimage_analysis\u001B[39;00m \u001B[38;5;28;01mimport\u001B[39;00m (\n\u001B[0;32m      7\u001B[0m     AzureAiServicesImageAnalysisTool,\n\u001B[0;32m      8\u001B[0m )\n\u001B[0;32m      9\u001B[0m \u001B[38;5;28;01mfrom\u001B[39;00m \u001B[38;5;21;01mlangchain_community\u001B[39;00m\u001B[38;5;21;01m.\u001B[39;00m\u001B[38;5;21;01mtools\u001B[39;00m\u001B[38;5;21;01m.\u001B[39;00m\u001B[38;5;21;01mazure_ai_services\u001B[39;00m\u001B[38;5;21;01m.\u001B[39;00m\u001B[38;5;21;01mspeech_to_text\u001B[39;00m \u001B[38;5;28;01mimport\u001B[39;00m (\n\u001B[0;32m     10\u001B[0m     AzureAiServicesSpeechToTextTool,\n\u001B[0;32m     11\u001B[0m )\n",
      "\u001B[1;31mModuleNotFoundError\u001B[0m: No module named 'langchain_community'"
     ]
    }
   ],
   "execution_count": 1
  },
  {
   "metadata": {},
   "cell_type": "code",
   "source": [
    "translate_key = os.getenv('AZURE_TRANSLATE_API_KEY')\n",
    "translate_endpoint = os.getenv('AZURE_TRANSLATE_ENDPOINT')\n"
   ],
   "id": "d16a2afc75afc1a4",
   "outputs": [],
   "execution_count": null
  },
  {
   "metadata": {},
   "cell_type": "code",
   "source": "translator = AzureTranslateTool(translate_key=translate_key, translate_endpoint=translate_endpoint)",
   "id": "6a9a508bab82e582",
   "outputs": [],
   "execution_count": null
  },
  {
   "metadata": {},
   "cell_type": "code",
   "source": [
    "\n",
    "prompt = PromptTemplate(\n",
    "    input_variables=['input'],\n",
    "    template=\"You are a translation agent. Use the translation tool to translate the following input: {input}\"\n",
    ")\n"
   ],
   "id": "e4d08ff8441d3ac1",
   "outputs": [],
   "execution_count": null
  },
  {
   "metadata": {},
   "cell_type": "code",
   "source": [
    "def translate_text(input_text, target_language='es'):\n",
    "    try:\n",
    "        # Run the translation\n",
    "        translated_text = translator._run(input_text, target_language)\n",
    "\n",
    "        # Format the result in a dictionary\n",
    "        result = {\n",
    "            'input': input_text,\n",
    "            'output': translated_text\n",
    "        }\n",
    "        return result\n",
    "\n",
    "    except Exception as e:\n",
    "        # Log the error and return an error dictionary\n",
    "        print(f\"Translation error: {e}\")\n",
    "        return {'error': str(e)}\n"
   ],
   "id": "4467f2ee18e2201b",
   "outputs": [],
   "execution_count": null
  },
  {
   "metadata": {},
   "cell_type": "code",
   "source": [
    "# Instantiate the AzureTranslateTool\n",
    "translator = AzureTranslateTool()\n",
    "\n",
    "# Sample text to translate\n",
    "sample_text = \"hi how are you?\"\n",
    "target_language = 'es'\n",
    "\n",
    "# Perform translation using the _translate_text method directly\n",
    "translated_text = translator._translate_text(sample_text, to_language=target_language)\n",
    "\n",
    "\n",
    "print(f\"Translated text: {translated_text}\")\n"
   ],
   "id": "bb5b638111ce6ae9",
   "outputs": [],
   "execution_count": null
  },
  {
   "metadata": {},
   "cell_type": "code",
   "source": "",
   "id": "a026310fe89600af",
   "outputs": [],
   "execution_count": null
  }
 ],
 "metadata": {
  "kernelspec": {
   "display_name": "Python 3",
   "language": "python",
   "name": "python3"
  },
  "language_info": {
   "codemirror_mode": {
    "name": "ipython",
    "version": 2
   },
   "file_extension": ".py",
   "mimetype": "text/x-python",
   "name": "python",
   "nbconvert_exporter": "python",
   "pygments_lexer": "ipython2",
   "version": "2.7.6"
  }
 },
 "nbformat": 4,
 "nbformat_minor": 5
}
