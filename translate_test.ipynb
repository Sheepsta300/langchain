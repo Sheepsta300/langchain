{
 "cells": [
  {
   "metadata": {},
   "cell_type": "markdown",
   "source": [
    "\n",
    "# # AzureTranslateTool with AgentExecutor\n",
    "# "
   ],
   "id": "68856c663f10f863"
  },
  {
   "metadata": {},
   "cell_type": "markdown",
   "source": "# This notebook demonstrates how to use the `AzureTranslateTool` in conjunction with an AgentExecutor. The agent will handle translation requests by utilizing the Azure OpenAI model and the `AzureTranslateTool`.",
   "id": "23cc6f4912d58722"
  },
  {
   "metadata": {},
   "cell_type": "markdown",
   "source": [
    "\n",
    "# ## Step 1: Import Required Libraries and Load Environment Variables\n",
    "# We begin by importing the necessary libraries and loading the environment variables that include the Azure OpenAI and LangSmith API keys.\n"
   ],
   "id": "9fb605e9b94dc85d"
  },
  {
   "metadata": {},
   "cell_type": "code",
   "source": [
    "# Import necessary libraries\n",
    "from libs.community.langchain_community.tools.azure_ai_services.translate_tool import AzureTranslateTool\n",
    "from langchain_openai import AzureChatOpenAI\n",
    "from langchain.agents import AgentExecutor, create_structured_chat_agent\n",
    "from langchain import hub\n",
    "import os\n",
    "from dotenv import load_dotenv"
   ],
   "id": "6ae483a2b854e093",
   "outputs": [],
   "execution_count": null
  },
  {
   "metadata": {},
   "cell_type": "code",
   "source": [
    "# Load environment variables from .env\n",
    "load_dotenv()"
   ],
   "id": "62379bb5905fbcec",
   "outputs": [],
   "execution_count": null
  },
  {
   "metadata": {},
   "cell_type": "code",
   "source": [
    "# Load the prompt from LangSmith\n",
    "LANGSMITH_KEY = os.getenv('LANGSMITH_KEY')\n",
    "prompt = hub.pull(\"hwchase17/structured-chat-agent\", api_key=LANGSMITH_KEY)"
   ],
   "id": "6ad93fbe3f5fbee7",
   "outputs": [],
   "execution_count": null
  },
  {
   "metadata": {},
   "cell_type": "code",
   "source": [
    "# Instantiate the AzureTranslateTool\n",
    "tools = [AzureTranslateTool()]"
   ],
   "id": "2fb7ad6a5802d30e",
   "outputs": [],
   "execution_count": null
  },
  {
   "metadata": {},
   "cell_type": "code",
   "source": [
    "# Initialize the Azure OpenAI model\n",
    "model = AzureChatOpenAI(\n",
    "    openai_api_version=os.getenv('OPENAI_API_VERSION'),  \n",
    "    azure_deployment=os.getenv('COMPLETIONS_MODEL'),\n",
    "    azure_endpoint=os.getenv('AZURE_ENDPOINT'),\n",
    "    api_key=os.getenv('AZURE_API_KEY'),\n",
    "    temperature=0.5,\n",
    "    max_tokens=200,\n",
    "    timeout=60,\n",
    "    max_retries=10,\n",
    ")"
   ],
   "id": "75b8572d53cc9eac",
   "outputs": [],
   "execution_count": null
  },
  {
   "metadata": {},
   "cell_type": "code",
   "source": [
    "# Create the agent using the model, tools, and prompt\n",
    "agent = create_structured_chat_agent(model, tools, prompt)\n",
    "# Set up the AgentExecutor with verbose output\n",
    "agent_executor = AgentExecutor(\n",
    "    agent=agent, tools=tools, verbose=True, handle_parsing_errors=True\n",
    ")"
   ],
   "id": "fabe673727ec707b",
   "outputs": [],
   "execution_count": null
  },
  {
   "metadata": {},
   "cell_type": "markdown",
   "source": "Example 1 - Simple Translation",
   "id": "83526707746bed32"
  },
  {
   "metadata": {},
   "cell_type": "code",
   "source": [
    "\n",
    "# Input text to translate\n",
    "input_text = \"Hello, how are you?\"# Invoke the agent with the translation request\n",
    "try:\n",
    "    response = agent_executor.invoke({\"input\": f\"Can you translate the following text to te reo maori: {input_text}\"})\n",
    "    print(\"Translation result:\", response)\n",
    "except Exception as e:\n",
    "    print(f\"Error during translation: {e}\")\n"
   ],
   "id": "94364527d63b0018",
   "outputs": [],
   "execution_count": null
  },
  {
   "metadata": {},
   "cell_type": "markdown",
   "source": "Example 2 - Language Detection",
   "id": "de061d907f8bbcbc"
  },
  {
   "metadata": {},
   "cell_type": "code",
   "source": [
    "# Example: Detect the language of \"Bonjour tout le monde\"\n",
    "query_language_detection = {'input': 'Can you detect what language this phrase is in: Bonjour tout le monde'}\n",
    "\n",
    "# Invoke the tool to detect language\n",
    "try:\n",
    "    response_language_detection = agent_executor.invoke(query_language_detection)\n",
    "    print(\"Language detection result:\", response_language_detection)\n",
    "except Exception as e:\n",
    "    print(f\"Error during language detection: {e}\")\n"
   ],
   "id": "f3f873abc2fd8643",
   "outputs": [],
   "execution_count": null
  },
  {
   "metadata": {},
   "cell_type": "markdown",
   "source": "Example 3 Translate Complex Sentences",
   "id": "727ee92dd8f7cdbb"
  },
  {
   "metadata": {},
   "cell_type": "markdown",
   "source": "",
   "id": "97ffedd4c5c7ab58"
  },
  {
   "metadata": {},
   "cell_type": "code",
   "source": [
    "# Example: Translate a more complex sentence to French\n",
    "query_complex_sentence = {'input': 'Can you translate this technical sentence to French: \"Artificial intelligence will revolutionize healthcare in the next decade.\"'}\n",
    "\n",
    "# Invoke the tool to translate the complex sentence\n",
    "try:\n",
    "    response_complex_sentence = agent_executor.invoke(query_complex_sentence)\n",
    "    print(\"Complex translation result:\", response_complex_sentence)\n",
    "except Exception as e:\n",
    "    print(f\"Error during translation: {e}\")\n"
   ],
   "id": "3334795db21b2dff",
   "outputs": [],
   "execution_count": null
  },
  {
   "metadata": {},
   "cell_type": "markdown",
   "source": "Example 4 - Language guess + translate",
   "id": "2b4e8b03e6e7b059"
  },
  {
   "metadata": {},
   "cell_type": "code",
   "source": [
    "# Example: Guess the language and translate to English\n",
    "query_language_guess_and_translate = {'input': 'Can you guess what language this is and translate it to English: \"Hola, ¿cómo estás?\"'}\n",
    "\n",
    "# Invoke the tool to guess language and translate\n",
    "try:\n",
    "    response_language_guess_and_translate = agent_executor.invoke(query_language_guess_and_translate)\n",
    "    print(\"Guess and Translate result:\", response_language_guess_and_translate)\n",
    "except Exception as e:\n",
    "    print(f\"Error during language guess and translation: {e}\")\n"
   ],
   "id": "d3a6a9f6054503b2",
   "outputs": [],
   "execution_count": null
  },
  {
   "metadata": {},
   "cell_type": "markdown",
   "source": "Example 5 - Translate to Multiple Languages",
   "id": "9f7262bced602aa"
  },
  {
   "metadata": {},
   "cell_type": "code",
   "source": [
    "# Example: Translate \"Good morning\" into Spanish, French, and Italian\n",
    "query_multiple_translations = {'input': 'Can you translate \"Good morning\" into Spanish, French, and Italian?'}\n",
    "\n",
    "# Invoke the tool to translate into multiple languages\n",
    "try:\n",
    "    response_multiple_translations = agent_executor.invoke(query_multiple_translations)\n",
    "    print(\"Multiple translations result:\", response_multiple_translations)\n",
    "except Exception as e:\n",
    "    print(f\"Error during translation to multiple languages: {e}\")\n"
   ],
   "id": "c5e6193f42d3e8ab",
   "outputs": [],
   "execution_count": null
  },
  {
   "metadata": {},
   "cell_type": "markdown",
   "source": "Example 6 - Asking for Idiomatic Expressions",
   "id": "1c7cc951159f1b77"
  },
  {
   "metadata": {},
   "cell_type": "code",
   "source": [
    "# Example: Translate the idiom \"It's raining cats and dogs\" into Spanish\n",
    "query_idiom_translation = {'input': 'Can you translate the idiom \"It\\'s raining cats and dogs\" into Spanish?'}\n",
    "\n",
    "# Invoke the tool to translate the idiom\n",
    "try:\n",
    "    response_idiom_translation = agent_executor.invoke(query_idiom_translation)\n",
    "    print(\"Idiom translation result:\", response_idiom_translation)\n",
    "except Exception as e:\n",
    "    print(f\"Error during idiom translation: {e}\")\n"
   ],
   "id": "fefb7a73f1d8786d",
   "outputs": [],
   "execution_count": null
  },
  {
   "metadata": {},
   "cell_type": "markdown",
   "source": "Example 7 - Asking to Translate Back and Forth",
   "id": "24cb1f36c16fd165"
  },
  {
   "metadata": {},
   "cell_type": "code",
   "source": [
    "# Example: Translate a phrase to German and then back to English\n",
    "query_back_and_forth = {'input': 'Can you translate \"The quick brown fox jumps over the lazy dog\" into German, and then back to English?'}\n",
    "\n",
    "# Invoke the tool to translate back and forth\n",
    "try:\n",
    "    response_back_and_forth = agent_executor.invoke(query_back_and_forth)\n",
    "    print(\"Back-and-forth translation result:\", response_back_and_forth)\n",
    "except Exception as e:\n",
    "    print(f\"Error during back-and-forth translation: {e}\")\n"
   ],
   "id": "94fe663bdc404c6c",
   "outputs": [],
   "execution_count": null
  },
  {
   "metadata": {},
   "cell_type": "markdown",
   "source": "Example 8 - Translating Phrases with Special Characters or Emojis",
   "id": "366463970b6b0ea5"
  },
  {
   "metadata": {},
   "cell_type": "code",
   "source": [
    "# Example: Translate a phrase with text and emojis into French\n",
    "query_with_text_and_emojis = {'input': 'Can you translate this phrase into French: \"I\\'m happy 😊 because it\\'s sunny ☀️ today.\"'}\n",
    "\n",
    "# Invoke the tool to translate the phrase with text and emojis\n",
    "try:\n",
    "    response_with_text_and_emojis = agent_executor.invoke(query_with_text_and_emojis)\n",
    "    print(\"Emoji translation result:\", response_with_text_and_emojis)\n",
    "except Exception as e:\n",
    "    print(f\"Error during emoji translation: {e}\")\n",
    "\n"
   ],
   "id": "fe20e25c2d230a6d",
   "outputs": [
    {
     "name": "stderr",
     "output_type": "stream",
     "text": [
      "INFO:httpx:HTTP Request: POST https://nzcapstoneproject.openai.azure.com//openai/deployments/gpt-4o/chat/completions?api-version=2024-06-01 \"HTTP/1.1 200 OK\"\n"
     ]
    },
    {
     "name": "stdout",
     "output_type": "stream",
     "text": [
      "\u001B[32;1m\u001B[1;3m{\n",
      "  \"action\": \"Final Answer\",\n",
      "  \"action_input\": \"Je suis content 😊 parce qu’il fait beau ☀️ aujourd’hui.\"\n",
      "}\u001B[0m\n",
      "\n",
      "\u001B[1m> Finished chain.\u001B[0m\n",
      "Emoji translation result: {'input': 'Can you translate this phrase into French: \"I\\'m happy 😊 because it\\'s sunny ☀️ today.\"', 'output': 'Je suis content 😊 parce qu’il fait beau ☀️ aujourd’hui.'}\n"
     ]
    }
   ],
   "execution_count": 49
  },
  {
   "metadata": {},
   "cell_type": "markdown",
   "source": "Example 9 - Longer Paragraph Translation",
   "id": "20bc1bbae49034a4"
  },
  {
   "metadata": {
    "ExecuteTime": {
     "end_time": "2024-10-18T04:45:22.074712Z",
     "start_time": "2024-10-18T04:45:19.663972Z"
    }
   },
   "cell_type": "code",
   "source": [
    "# Example: Translate a longer paragraph into Spanish\n",
    "query_paragraph_translation = {'input': 'Can you translate this paragraph to Spanish: \"Machine learning is a subset of artificial intelligence, and it allows computers to learn from data without being explicitly programmed.\"'}\n",
    "\n",
    "# Invoke the tool to translate a paragraph\n",
    "try:\n",
    "    response_paragraph_translation = agent_executor.invoke(query_paragraph_translation)\n",
    "    print(\"Paragraph translation result:\", response_paragraph_translation)\n",
    "except Exception as e:\n",
    "    print(f\"Error during paragraph translation: {e}\")\n"
   ],
   "id": "5735995f84383ac8",
   "outputs": [
    {
     "name": "stdout",
     "output_type": "stream",
     "text": [
      "\n",
      "\n",
      "\u001B[1m> Entering new AgentExecutor chain...\u001B[0m\n"
     ]
    },
    {
     "name": "stderr",
     "output_type": "stream",
     "text": [
      "INFO:httpx:HTTP Request: POST https://nzcapstoneproject.openai.azure.com//openai/deployments/gpt-4o/chat/completions?api-version=2024-06-01 \"HTTP/1.1 200 OK\"\n",
      "INFO:azure.core.pipeline.policies.http_logging_policy:Request URL: 'https://api.cognitive.microsofttranslator.com/translate?to=REDACTED&api-version=REDACTED'\n",
      "Request method: 'POST'\n",
      "Request headers:\n",
      "    'Content-Type': 'application/json'\n",
      "    'Content-Length': '150'\n",
      "    'Accept': 'application/json'\n",
      "    'x-ms-client-request-id': 'c7ccb0ff-8d0b-11ef-9df1-ccf9e4c69b56'\n",
      "    'User-Agent': 'azsdk-python-ai-translation-text/1.0.1 Python/3.12.5 (Windows-10-10.0.19045-SP0)'\n",
      "    'Ocp-Apim-Subscription-Key': 'REDACTED'\n",
      "    'Ocp-Apim-Subscription-Region': 'REDACTED'\n",
      "A body is sent with the request\n"
     ]
    },
    {
     "name": "stdout",
     "output_type": "stream",
     "text": [
      "\u001B[32;1m\u001B[1;3m{\n",
      "  \"action\": \"azure_translator_tool\",\n",
      "  \"action_input\": {\n",
      "    \"query\": \"Machine learning is a subset of artificial intelligence, and it allows computers to learn from data without being explicitly programmed.\",\n",
      "    \"to_language\": \"es\"\n",
      "  }\n",
      "}\u001B[0m"
     ]
    },
    {
     "name": "stderr",
     "output_type": "stream",
     "text": [
      "INFO:azure.core.pipeline.policies.http_logging_policy:Response status: 200\n",
      "Response headers:\n",
      "    'Date': 'Fri, 18 Oct 2024 04:45:22 GMT'\n",
      "    'Content-Type': 'application/json; charset=utf-8'\n",
      "    'Transfer-Encoding': 'chunked'\n",
      "    'Connection': 'keep-alive'\n",
      "    'Access-Control-Expose-Headers': 'REDACTED'\n",
      "    'X-RequestId': 'REDACTED'\n",
      "    'X-Content-Type-Options': 'REDACTED'\n",
      "    'X-Metered-Usage': 'REDACTED'\n",
      "    'X-MT-System': 'REDACTED'\n",
      "    'Strict-Transport-Security': 'REDACTED'\n"
     ]
    },
    {
     "name": "stdout",
     "output_type": "stream",
     "text": [
      "\u001B[36;1m\u001B[1;3mEl aprendizaje automático es un subconjunto de la inteligencia artificial y permite a los ordenadores aprender de los datos sin necesidad de programarlos explícitamente.\u001B[0m"
     ]
    },
    {
     "name": "stderr",
     "output_type": "stream",
     "text": [
      "INFO:httpx:HTTP Request: POST https://nzcapstoneproject.openai.azure.com//openai/deployments/gpt-4o/chat/completions?api-version=2024-06-01 \"HTTP/1.1 200 OK\"\n"
     ]
    },
    {
     "name": "stdout",
     "output_type": "stream",
     "text": [
      "\u001B[32;1m\u001B[1;3m{\n",
      "  \"action\": \"Final Answer\",\n",
      "  \"action_input\": \"El aprendizaje automático es un subconjunto de la inteligencia artificial y permite a los ordenadores aprender de los datos sin necesidad de programarlos explícitamente.\"\n",
      "}\u001B[0m\n",
      "\n",
      "\u001B[1m> Finished chain.\u001B[0m\n",
      "Paragraph translation result: {'input': 'Can you translate this paragraph to Spanish: \"Machine learning is a subset of artificial intelligence, and it allows computers to learn from data without being explicitly programmed.\"', 'output': 'El aprendizaje automático es un subconjunto de la inteligencia artificial y permite a los ordenadores aprender de los datos sin necesidad de programarlos explícitamente.'}\n"
     ]
    }
   ],
   "execution_count": 50
  },
  {
   "metadata": {},
   "cell_type": "markdown",
   "source": "Example 10 - Asking for a Reverse Translation",
   "id": "929bf72aee7b1d83"
  },
  {
   "metadata": {
    "ExecuteTime": {
     "end_time": "2024-10-18T04:45:29.196889Z",
     "start_time": "2024-10-18T04:45:22.075711Z"
    }
   },
   "cell_type": "code",
   "source": [
    "# Example: Reverse translate a complex sentence through multiple languages (English -> German -> Spanish -> English)\n",
    "query_reverse_translation_complex = {\n",
    "    'input': 'Translate \"The quick brown fox jumps over the lazy dog\" into German, then into Spanish, and finally back to English. Let\\'s see if the meaning remains the same.'\n",
    "}\n",
    "\n",
    "# Invoke the tool for complex reverse translation\n",
    "try:\n",
    "    response_reverse_translation_complex = agent_executor.invoke(query_reverse_translation_complex)\n",
    "    print(\"Complex reverse translation result:\", response_reverse_translation_complex)\n",
    "except Exception as e:\n",
    "    print(f\"Error during reverse translation: {e}\")\n",
    "\n"
   ],
   "id": "8ace6212a41fcd59",
   "outputs": [
    {
     "name": "stdout",
     "output_type": "stream",
     "text": [
      "\n",
      "\n",
      "\u001B[1m> Entering new AgentExecutor chain...\u001B[0m\n"
     ]
    },
    {
     "name": "stderr",
     "output_type": "stream",
     "text": [
      "INFO:httpx:HTTP Request: POST https://nzcapstoneproject.openai.azure.com//openai/deployments/gpt-4o/chat/completions?api-version=2024-06-01 \"HTTP/1.1 200 OK\"\n",
      "INFO:azure.core.pipeline.policies.http_logging_policy:Request URL: 'https://api.cognitive.microsofttranslator.com/translate?to=REDACTED&api-version=REDACTED'\n",
      "Request method: 'POST'\n",
      "Request headers:\n",
      "    'Content-Type': 'application/json'\n",
      "    'Content-Length': '57'\n",
      "    'Accept': 'application/json'\n",
      "    'x-ms-client-request-id': 'ca5b4c99-8d0b-11ef-9995-ccf9e4c69b56'\n",
      "    'User-Agent': 'azsdk-python-ai-translation-text/1.0.1 Python/3.12.5 (Windows-10-10.0.19045-SP0)'\n",
      "    'Ocp-Apim-Subscription-Key': 'REDACTED'\n",
      "    'Ocp-Apim-Subscription-Region': 'REDACTED'\n",
      "A body is sent with the request\n",
      "INFO:azure.core.pipeline.policies.http_logging_policy:Response status: 200\n",
      "Response headers:\n",
      "    'Date': 'Fri, 18 Oct 2024 04:45:26 GMT'\n",
      "    'Content-Type': 'application/json; charset=utf-8'\n",
      "    'Transfer-Encoding': 'chunked'\n",
      "    'Connection': 'keep-alive'\n",
      "    'Access-Control-Expose-Headers': 'REDACTED'\n",
      "    'X-RequestId': 'REDACTED'\n",
      "    'X-Content-Type-Options': 'REDACTED'\n",
      "    'X-Metered-Usage': 'REDACTED'\n",
      "    'X-MT-System': 'REDACTED'\n",
      "    'Strict-Transport-Security': 'REDACTED'\n"
     ]
    },
    {
     "name": "stdout",
     "output_type": "stream",
     "text": [
      "\u001B[32;1m\u001B[1;3mThought: I need to translate the sentence into German first, then into Spanish, and finally back to English to check if the meaning remains the same.\n",
      "\n",
      "Action:\n",
      "```json\n",
      "{\n",
      "  \"action\": \"azure_translator_tool\",\n",
      "  \"action_input\": {\n",
      "    \"query\": \"The quick brown fox jumps over the lazy dog\",\n",
      "    \"to_language\": \"de\"\n",
      "  }\n",
      "}\n",
      "```\u001B[0m\u001B[36;1m\u001B[1;3mDer flinke braune Fuchs springt über den faulen Hund\u001B[0m"
     ]
    },
    {
     "name": "stderr",
     "output_type": "stream",
     "text": [
      "INFO:httpx:HTTP Request: POST https://nzcapstoneproject.openai.azure.com//openai/deployments/gpt-4o/chat/completions?api-version=2024-06-01 \"HTTP/1.1 200 OK\"\n",
      "INFO:azure.core.pipeline.policies.http_logging_policy:Request URL: 'https://api.cognitive.microsofttranslator.com/translate?to=REDACTED&api-version=REDACTED'\n",
      "Request method: 'POST'\n",
      "Request headers:\n",
      "    'Content-Type': 'application/json'\n",
      "    'Content-Length': '71'\n",
      "    'Accept': 'application/json'\n",
      "    'x-ms-client-request-id': 'cb184303-8d0b-11ef-8a17-ccf9e4c69b56'\n",
      "    'User-Agent': 'azsdk-python-ai-translation-text/1.0.1 Python/3.12.5 (Windows-10-10.0.19045-SP0)'\n",
      "    'Ocp-Apim-Subscription-Key': 'REDACTED'\n",
      "    'Ocp-Apim-Subscription-Region': 'REDACTED'\n",
      "A body is sent with the request\n",
      "INFO:azure.core.pipeline.policies.http_logging_policy:Response status: 200\n",
      "Response headers:\n",
      "    'Date': 'Fri, 18 Oct 2024 04:45:27 GMT'\n",
      "    'Content-Type': 'application/json; charset=utf-8'\n",
      "    'Transfer-Encoding': 'chunked'\n",
      "    'Connection': 'keep-alive'\n",
      "    'Access-Control-Expose-Headers': 'REDACTED'\n",
      "    'X-RequestId': 'REDACTED'\n",
      "    'X-Content-Type-Options': 'REDACTED'\n",
      "    'X-Metered-Usage': 'REDACTED'\n",
      "    'X-MT-System': 'REDACTED'\n",
      "    'Strict-Transport-Security': 'REDACTED'\n"
     ]
    },
    {
     "name": "stdout",
     "output_type": "stream",
     "text": [
      "\u001B[32;1m\u001B[1;3mAction:\n",
      "```json\n",
      "{\n",
      "  \"action\": \"azure_translator_tool\",\n",
      "  \"action_input\": {\n",
      "    \"query\": \"Der flinke braune Fuchs springt über den faulen Hund\",\n",
      "    \"to_language\": \"es\"\n",
      "  }\n",
      "}\n",
      "```\u001B[0m\u001B[36;1m\u001B[1;3mEl ágil zorro marrón salta sobre el perro perezoso\u001B[0m"
     ]
    },
    {
     "name": "stderr",
     "output_type": "stream",
     "text": [
      "INFO:httpx:HTTP Request: POST https://nzcapstoneproject.openai.azure.com//openai/deployments/gpt-4o/chat/completions?api-version=2024-06-01 \"HTTP/1.1 200 OK\"\n",
      "INFO:azure.core.pipeline.policies.http_logging_policy:Request URL: 'https://api.cognitive.microsofttranslator.com/translate?to=REDACTED&api-version=REDACTED'\n",
      "Request method: 'POST'\n",
      "Request headers:\n",
      "    'Content-Type': 'application/json'\n",
      "    'Content-Length': '74'\n",
      "    'Accept': 'application/json'\n",
      "    'x-ms-client-request-id': 'cbe1c833-8d0b-11ef-9955-ccf9e4c69b56'\n",
      "    'User-Agent': 'azsdk-python-ai-translation-text/1.0.1 Python/3.12.5 (Windows-10-10.0.19045-SP0)'\n",
      "    'Ocp-Apim-Subscription-Key': 'REDACTED'\n",
      "    'Ocp-Apim-Subscription-Region': 'REDACTED'\n",
      "A body is sent with the request\n",
      "INFO:azure.core.pipeline.policies.http_logging_policy:Response status: 200\n",
      "Response headers:\n",
      "    'Date': 'Fri, 18 Oct 2024 04:45:28 GMT'\n",
      "    'Content-Type': 'application/json; charset=utf-8'\n",
      "    'Transfer-Encoding': 'chunked'\n",
      "    'Connection': 'keep-alive'\n",
      "    'Access-Control-Expose-Headers': 'REDACTED'\n",
      "    'X-RequestId': 'REDACTED'\n",
      "    'X-Content-Type-Options': 'REDACTED'\n",
      "    'X-Metered-Usage': 'REDACTED'\n",
      "    'X-MT-System': 'REDACTED'\n",
      "    'Strict-Transport-Security': 'REDACTED'\n"
     ]
    },
    {
     "name": "stdout",
     "output_type": "stream",
     "text": [
      "\u001B[32;1m\u001B[1;3mAction:\n",
      "```json\n",
      "{\n",
      "  \"action\": \"azure_translator_tool\",\n",
      "  \"action_input\": {\n",
      "    \"query\": \"El ágil zorro marrón salta sobre el perro perezoso\",\n",
      "    \"to_language\": \"en\"\n",
      "  }\n",
      "}\n",
      "```\u001B[0m\u001B[36;1m\u001B[1;3mThe agile brown fox jumps on the lazy dog\u001B[0m"
     ]
    },
    {
     "name": "stderr",
     "output_type": "stream",
     "text": [
      "INFO:httpx:HTTP Request: POST https://nzcapstoneproject.openai.azure.com//openai/deployments/gpt-4o/chat/completions?api-version=2024-06-01 \"HTTP/1.1 200 OK\"\n"
     ]
    },
    {
     "name": "stdout",
     "output_type": "stream",
     "text": [
      "\u001B[32;1m\u001B[1;3mAction:\n",
      "```json\n",
      "{\n",
      "  \"action\": \"Final Answer\",\n",
      "  \"action_input\": \"The original sentence 'The quick brown fox jumps over the lazy dog' translated back to English after going through German and Spanish is 'The agile brown fox jumps on the lazy dog'. The meaning remains largely the same, though there are slight variations in wording.\"\n",
      "}\n",
      "```\u001B[0m\n",
      "\n",
      "\u001B[1m> Finished chain.\u001B[0m\n",
      "Complex reverse translation result: {'input': 'Translate \"The quick brown fox jumps over the lazy dog\" into German, then into Spanish, and finally back to English. Let\\'s see if the meaning remains the same.', 'output': \"The original sentence 'The quick brown fox jumps over the lazy dog' translated back to English after going through German and Spanish is 'The agile brown fox jumps on the lazy dog'. The meaning remains largely the same, though there are slight variations in wording.\"}\n"
     ]
    }
   ],
   "execution_count": 51
  }
 ],
 "metadata": {
  "kernelspec": {
   "display_name": "Python 3",
   "language": "python",
   "name": "python3"
  },
  "language_info": {
   "codemirror_mode": {
    "name": "ipython",
    "version": 2
   },
   "file_extension": ".py",
   "mimetype": "text/x-python",
   "name": "python",
   "nbconvert_exporter": "python",
   "pygments_lexer": "ipython2",
   "version": "2.7.6"
  }
 },
 "nbformat": 4,
 "nbformat_minor": 5
}
