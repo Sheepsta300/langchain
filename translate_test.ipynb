{
 "cells": [
  {
   "metadata": {
    "ExecuteTime": {
     "end_time": "2024-10-15T21:19:36.693909Z",
     "start_time": "2024-10-15T21:19:36.562908Z"
    }
   },
   "cell_type": "code",
   "source": [
    "import os\n",
    "import sys\n",
    "\n",
    "from libs.community.langchain_community.tools.azure_ai_services.translate_tool import AzureTranslateTool\n",
    "import langchain_core.agents as agents\n",
    "\n"
   ],
   "id": "a026310fe89600af",
   "outputs": [
    {
     "ename": "TypeError",
     "evalue": "cannot pickle 'classmethod' object",
     "output_type": "error",
     "traceback": [
      "\u001B[1;31m---------------------------------------------------------------------------\u001B[0m",
      "\u001B[1;31mTypeError\u001B[0m                                 Traceback (most recent call last)",
      "Cell \u001B[1;32mIn[6], line 4\u001B[0m\n\u001B[0;32m      1\u001B[0m \u001B[38;5;28;01mimport\u001B[39;00m \u001B[38;5;21;01mos\u001B[39;00m\n\u001B[0;32m      2\u001B[0m \u001B[38;5;28;01mimport\u001B[39;00m \u001B[38;5;21;01msys\u001B[39;00m\n\u001B[1;32m----> 4\u001B[0m \u001B[38;5;28;01mfrom\u001B[39;00m \u001B[38;5;21;01mlibs\u001B[39;00m\u001B[38;5;21;01m.\u001B[39;00m\u001B[38;5;21;01mcommunity\u001B[39;00m\u001B[38;5;21;01m.\u001B[39;00m\u001B[38;5;21;01mlangchain_community\u001B[39;00m\u001B[38;5;21;01m.\u001B[39;00m\u001B[38;5;21;01mtools\u001B[39;00m\u001B[38;5;21;01m.\u001B[39;00m\u001B[38;5;21;01mazure_ai_services\u001B[39;00m\u001B[38;5;21;01m.\u001B[39;00m\u001B[38;5;21;01mtranslate_tool\u001B[39;00m \u001B[38;5;28;01mimport\u001B[39;00m AzureTranslateTool\n\u001B[0;32m      5\u001B[0m \u001B[38;5;28;01mimport\u001B[39;00m \u001B[38;5;21;01mlangchain_core\u001B[39;00m\u001B[38;5;21;01m.\u001B[39;00m\u001B[38;5;21;01magents\u001B[39;00m \u001B[38;5;28;01mas\u001B[39;00m \u001B[38;5;21;01magents\u001B[39;00m\n",
      "File \u001B[1;32mF:\\pycharm\\langchain project\\libs\\community\\langchain_community\\tools\\azure_ai_services\\__init__.py:3\u001B[0m\n\u001B[0;32m      1\u001B[0m \u001B[38;5;124;03m\"\"\"Azure AI Services Tools.\"\"\"\u001B[39;00m\n\u001B[1;32m----> 3\u001B[0m \u001B[38;5;28;01mfrom\u001B[39;00m \u001B[38;5;21;01mlangchain_community\u001B[39;00m\u001B[38;5;21;01m.\u001B[39;00m\u001B[38;5;21;01mtools\u001B[39;00m\u001B[38;5;21;01m.\u001B[39;00m\u001B[38;5;21;01mazure_ai_services\u001B[39;00m\u001B[38;5;21;01m.\u001B[39;00m\u001B[38;5;21;01mdocument_intelligence\u001B[39;00m \u001B[38;5;28;01mimport\u001B[39;00m (\n\u001B[0;32m      4\u001B[0m     AzureAiServicesDocumentIntelligenceTool,\n\u001B[0;32m      5\u001B[0m )\n\u001B[0;32m      6\u001B[0m \u001B[38;5;28;01mfrom\u001B[39;00m \u001B[38;5;21;01mlangchain_community\u001B[39;00m\u001B[38;5;21;01m.\u001B[39;00m\u001B[38;5;21;01mtools\u001B[39;00m\u001B[38;5;21;01m.\u001B[39;00m\u001B[38;5;21;01mazure_ai_services\u001B[39;00m\u001B[38;5;21;01m.\u001B[39;00m\u001B[38;5;21;01mimage_analysis\u001B[39;00m \u001B[38;5;28;01mimport\u001B[39;00m (\n\u001B[0;32m      7\u001B[0m     AzureAiServicesImageAnalysisTool,\n\u001B[0;32m      8\u001B[0m )\n\u001B[0;32m      9\u001B[0m \u001B[38;5;28;01mfrom\u001B[39;00m \u001B[38;5;21;01mlangchain_community\u001B[39;00m\u001B[38;5;21;01m.\u001B[39;00m\u001B[38;5;21;01mtools\u001B[39;00m\u001B[38;5;21;01m.\u001B[39;00m\u001B[38;5;21;01mazure_ai_services\u001B[39;00m\u001B[38;5;21;01m.\u001B[39;00m\u001B[38;5;21;01mspeech_to_text\u001B[39;00m \u001B[38;5;28;01mimport\u001B[39;00m (\n\u001B[0;32m     10\u001B[0m     AzureAiServicesSpeechToTextTool,\n\u001B[0;32m     11\u001B[0m )\n",
      "File \u001B[1;32mF:\\pycharm/langchain project/libs/community\\langchain_community\\tools\\azure_ai_services\\__init__.py:3\u001B[0m\n\u001B[0;32m      1\u001B[0m \u001B[38;5;124;03m\"\"\"Azure AI Services Tools.\"\"\"\u001B[39;00m\n\u001B[1;32m----> 3\u001B[0m \u001B[38;5;28;01mfrom\u001B[39;00m \u001B[38;5;21;01mlangchain_community\u001B[39;00m\u001B[38;5;21;01m.\u001B[39;00m\u001B[38;5;21;01mtools\u001B[39;00m\u001B[38;5;21;01m.\u001B[39;00m\u001B[38;5;21;01mazure_ai_services\u001B[39;00m\u001B[38;5;21;01m.\u001B[39;00m\u001B[38;5;21;01mdocument_intelligence\u001B[39;00m \u001B[38;5;28;01mimport\u001B[39;00m (\n\u001B[0;32m      4\u001B[0m     AzureAiServicesDocumentIntelligenceTool,\n\u001B[0;32m      5\u001B[0m )\n\u001B[0;32m      6\u001B[0m \u001B[38;5;28;01mfrom\u001B[39;00m \u001B[38;5;21;01mlangchain_community\u001B[39;00m\u001B[38;5;21;01m.\u001B[39;00m\u001B[38;5;21;01mtools\u001B[39;00m\u001B[38;5;21;01m.\u001B[39;00m\u001B[38;5;21;01mazure_ai_services\u001B[39;00m\u001B[38;5;21;01m.\u001B[39;00m\u001B[38;5;21;01mimage_analysis\u001B[39;00m \u001B[38;5;28;01mimport\u001B[39;00m (\n\u001B[0;32m      7\u001B[0m     AzureAiServicesImageAnalysisTool,\n\u001B[0;32m      8\u001B[0m )\n\u001B[0;32m      9\u001B[0m \u001B[38;5;28;01mfrom\u001B[39;00m \u001B[38;5;21;01mlangchain_community\u001B[39;00m\u001B[38;5;21;01m.\u001B[39;00m\u001B[38;5;21;01mtools\u001B[39;00m\u001B[38;5;21;01m.\u001B[39;00m\u001B[38;5;21;01mazure_ai_services\u001B[39;00m\u001B[38;5;21;01m.\u001B[39;00m\u001B[38;5;21;01mspeech_to_text\u001B[39;00m \u001B[38;5;28;01mimport\u001B[39;00m (\n\u001B[0;32m     10\u001B[0m     AzureAiServicesSpeechToTextTool,\n\u001B[0;32m     11\u001B[0m )\n",
      "File \u001B[1;32mF:\\pycharm/langchain project/libs/community\\langchain_community\\tools\\azure_ai_services\\document_intelligence.py:18\u001B[0m\n\u001B[0;32m     11\u001B[0m \u001B[38;5;28;01mfrom\u001B[39;00m \u001B[38;5;21;01mlangchain_community\u001B[39;00m\u001B[38;5;21;01m.\u001B[39;00m\u001B[38;5;21;01mtools\u001B[39;00m\u001B[38;5;21;01m.\u001B[39;00m\u001B[38;5;21;01mazure_ai_services\u001B[39;00m\u001B[38;5;21;01m.\u001B[39;00m\u001B[38;5;21;01mutils\u001B[39;00m \u001B[38;5;28;01mimport\u001B[39;00m (\n\u001B[0;32m     12\u001B[0m     detect_file_src_type,\n\u001B[0;32m     13\u001B[0m )\n\u001B[0;32m     15\u001B[0m logger \u001B[38;5;241m=\u001B[39m logging\u001B[38;5;241m.\u001B[39mgetLogger(\u001B[38;5;18m__name__\u001B[39m)\n\u001B[1;32m---> 18\u001B[0m \u001B[38;5;28;01mclass\u001B[39;00m \u001B[38;5;21;01mAzureAiServicesDocumentIntelligenceTool\u001B[39;00m(BaseTool):\n\u001B[0;32m     19\u001B[0m \u001B[38;5;250m    \u001B[39m\u001B[38;5;124;03m\"\"\"Tool that queries the Azure AI Services Document Intelligence API.\u001B[39;00m\n\u001B[0;32m     20\u001B[0m \n\u001B[0;32m     21\u001B[0m \u001B[38;5;124;03m    In order to set this up, follow instructions at:\u001B[39;00m\n\u001B[0;32m     22\u001B[0m \u001B[38;5;124;03m    https://learn.microsoft.com/en-us/azure/ai-services/document-intelligence/quickstarts/get-started-sdks-rest-api?view=doc-intel-4.0.0&pivots=programming-language-python\u001B[39;00m\n\u001B[0;32m     23\u001B[0m \u001B[38;5;124;03m    \"\"\"\u001B[39;00m\n\u001B[0;32m     25\u001B[0m     azure_ai_services_key: \u001B[38;5;28mstr\u001B[39m \u001B[38;5;241m=\u001B[39m \u001B[38;5;124m\"\u001B[39m\u001B[38;5;124m\"\u001B[39m  \u001B[38;5;66;03m#: :meta private:\u001B[39;00m\n",
      "File \u001B[1;32m~\\AppData\\Local\\Programs\\Python\\Python310\\lib\\site-packages\\pydantic\\v1\\main.py:221\u001B[0m, in \u001B[0;36mModelMetaclass.__new__\u001B[1;34m(mcs, name, bases, namespace, **kwargs)\u001B[0m\n\u001B[0;32m    219\u001B[0m \u001B[38;5;28;01melif\u001B[39;00m is_valid_field(var_name) \u001B[38;5;129;01mand\u001B[39;00m var_name \u001B[38;5;129;01mnot\u001B[39;00m \u001B[38;5;129;01min\u001B[39;00m annotations \u001B[38;5;129;01mand\u001B[39;00m can_be_changed:\n\u001B[0;32m    220\u001B[0m     validate_field_name(bases, var_name)\n\u001B[1;32m--> 221\u001B[0m     inferred \u001B[38;5;241m=\u001B[39m \u001B[43mModelField\u001B[49m\u001B[38;5;241;43m.\u001B[39;49m\u001B[43minfer\u001B[49m\u001B[43m(\u001B[49m\n\u001B[0;32m    222\u001B[0m \u001B[43m        \u001B[49m\u001B[43mname\u001B[49m\u001B[38;5;241;43m=\u001B[39;49m\u001B[43mvar_name\u001B[49m\u001B[43m,\u001B[49m\n\u001B[0;32m    223\u001B[0m \u001B[43m        \u001B[49m\u001B[43mvalue\u001B[49m\u001B[38;5;241;43m=\u001B[39;49m\u001B[43mvalue\u001B[49m\u001B[43m,\u001B[49m\n\u001B[0;32m    224\u001B[0m \u001B[43m        \u001B[49m\u001B[43mannotation\u001B[49m\u001B[38;5;241;43m=\u001B[39;49m\u001B[43mannotations\u001B[49m\u001B[38;5;241;43m.\u001B[39;49m\u001B[43mget\u001B[49m\u001B[43m(\u001B[49m\u001B[43mvar_name\u001B[49m\u001B[43m,\u001B[49m\u001B[43m \u001B[49m\u001B[43mUndefined\u001B[49m\u001B[43m)\u001B[49m\u001B[43m,\u001B[49m\n\u001B[0;32m    225\u001B[0m \u001B[43m        \u001B[49m\u001B[43mclass_validators\u001B[49m\u001B[38;5;241;43m=\u001B[39;49m\u001B[43mvg\u001B[49m\u001B[38;5;241;43m.\u001B[39;49m\u001B[43mget_validators\u001B[49m\u001B[43m(\u001B[49m\u001B[43mvar_name\u001B[49m\u001B[43m)\u001B[49m\u001B[43m,\u001B[49m\n\u001B[0;32m    226\u001B[0m \u001B[43m        \u001B[49m\u001B[43mconfig\u001B[49m\u001B[38;5;241;43m=\u001B[39;49m\u001B[43mconfig\u001B[49m\u001B[43m,\u001B[49m\n\u001B[0;32m    227\u001B[0m \u001B[43m    \u001B[49m\u001B[43m)\u001B[49m\n\u001B[0;32m    228\u001B[0m     \u001B[38;5;28;01mif\u001B[39;00m var_name \u001B[38;5;129;01min\u001B[39;00m fields:\n\u001B[0;32m    229\u001B[0m         \u001B[38;5;28;01mif\u001B[39;00m lenient_issubclass(inferred\u001B[38;5;241m.\u001B[39mtype_, fields[var_name]\u001B[38;5;241m.\u001B[39mtype_):\n",
      "File \u001B[1;32m~\\AppData\\Local\\Programs\\Python\\Python310\\lib\\site-packages\\pydantic\\v1\\fields.py:504\u001B[0m, in \u001B[0;36mModelField.infer\u001B[1;34m(cls, name, value, annotation, class_validators, config)\u001B[0m\n\u001B[0;32m    501\u001B[0m     required \u001B[38;5;241m=\u001B[39m \u001B[38;5;28;01mFalse\u001B[39;00m\n\u001B[0;32m    502\u001B[0m annotation \u001B[38;5;241m=\u001B[39m get_annotation_from_field_info(annotation, field_info, name, config\u001B[38;5;241m.\u001B[39mvalidate_assignment)\n\u001B[1;32m--> 504\u001B[0m \u001B[38;5;28;01mreturn\u001B[39;00m \u001B[38;5;28;43mcls\u001B[39;49m\u001B[43m(\u001B[49m\n\u001B[0;32m    505\u001B[0m \u001B[43m    \u001B[49m\u001B[43mname\u001B[49m\u001B[38;5;241;43m=\u001B[39;49m\u001B[43mname\u001B[49m\u001B[43m,\u001B[49m\n\u001B[0;32m    506\u001B[0m \u001B[43m    \u001B[49m\u001B[43mtype_\u001B[49m\u001B[38;5;241;43m=\u001B[39;49m\u001B[43mannotation\u001B[49m\u001B[43m,\u001B[49m\n\u001B[0;32m    507\u001B[0m \u001B[43m    \u001B[49m\u001B[43malias\u001B[49m\u001B[38;5;241;43m=\u001B[39;49m\u001B[43mfield_info\u001B[49m\u001B[38;5;241;43m.\u001B[39;49m\u001B[43malias\u001B[49m\u001B[43m,\u001B[49m\n\u001B[0;32m    508\u001B[0m \u001B[43m    \u001B[49m\u001B[43mclass_validators\u001B[49m\u001B[38;5;241;43m=\u001B[39;49m\u001B[43mclass_validators\u001B[49m\u001B[43m,\u001B[49m\n\u001B[0;32m    509\u001B[0m \u001B[43m    \u001B[49m\u001B[43mdefault\u001B[49m\u001B[38;5;241;43m=\u001B[39;49m\u001B[43mvalue\u001B[49m\u001B[43m,\u001B[49m\n\u001B[0;32m    510\u001B[0m \u001B[43m    \u001B[49m\u001B[43mdefault_factory\u001B[49m\u001B[38;5;241;43m=\u001B[39;49m\u001B[43mfield_info\u001B[49m\u001B[38;5;241;43m.\u001B[39;49m\u001B[43mdefault_factory\u001B[49m\u001B[43m,\u001B[49m\n\u001B[0;32m    511\u001B[0m \u001B[43m    \u001B[49m\u001B[43mrequired\u001B[49m\u001B[38;5;241;43m=\u001B[39;49m\u001B[43mrequired\u001B[49m\u001B[43m,\u001B[49m\n\u001B[0;32m    512\u001B[0m \u001B[43m    \u001B[49m\u001B[43mmodel_config\u001B[49m\u001B[38;5;241;43m=\u001B[39;49m\u001B[43mconfig\u001B[49m\u001B[43m,\u001B[49m\n\u001B[0;32m    513\u001B[0m \u001B[43m    \u001B[49m\u001B[43mfield_info\u001B[49m\u001B[38;5;241;43m=\u001B[39;49m\u001B[43mfield_info\u001B[49m\u001B[43m,\u001B[49m\n\u001B[0;32m    514\u001B[0m \u001B[43m\u001B[49m\u001B[43m)\u001B[49m\n",
      "File \u001B[1;32m~\\AppData\\Local\\Programs\\Python\\Python310\\lib\\site-packages\\pydantic\\v1\\fields.py:434\u001B[0m, in \u001B[0;36mModelField.__init__\u001B[1;34m(self, name, type_, class_validators, model_config, default, default_factory, required, final, alias, field_info)\u001B[0m\n\u001B[0;32m    432\u001B[0m \u001B[38;5;28mself\u001B[39m\u001B[38;5;241m.\u001B[39mshape: \u001B[38;5;28mint\u001B[39m \u001B[38;5;241m=\u001B[39m SHAPE_SINGLETON\n\u001B[0;32m    433\u001B[0m \u001B[38;5;28mself\u001B[39m\u001B[38;5;241m.\u001B[39mmodel_config\u001B[38;5;241m.\u001B[39mprepare_field(\u001B[38;5;28mself\u001B[39m)\n\u001B[1;32m--> 434\u001B[0m \u001B[38;5;28;43mself\u001B[39;49m\u001B[38;5;241;43m.\u001B[39;49m\u001B[43mprepare\u001B[49m\u001B[43m(\u001B[49m\u001B[43m)\u001B[49m\n",
      "File \u001B[1;32m~\\AppData\\Local\\Programs\\Python\\Python310\\lib\\site-packages\\pydantic\\v1\\fields.py:544\u001B[0m, in \u001B[0;36mModelField.prepare\u001B[1;34m(self)\u001B[0m\n\u001B[0;32m    537\u001B[0m \u001B[38;5;28;01mdef\u001B[39;00m \u001B[38;5;21mprepare\u001B[39m(\u001B[38;5;28mself\u001B[39m) \u001B[38;5;241m-\u001B[39m\u001B[38;5;241m>\u001B[39m \u001B[38;5;28;01mNone\u001B[39;00m:\n\u001B[0;32m    538\u001B[0m \u001B[38;5;250m    \u001B[39m\u001B[38;5;124;03m\"\"\"\u001B[39;00m\n\u001B[0;32m    539\u001B[0m \u001B[38;5;124;03m    Prepare the field but inspecting self.default, self.type_ etc.\u001B[39;00m\n\u001B[0;32m    540\u001B[0m \n\u001B[0;32m    541\u001B[0m \u001B[38;5;124;03m    Note: this method is **not** idempotent (because _type_analysis is not idempotent),\u001B[39;00m\n\u001B[0;32m    542\u001B[0m \u001B[38;5;124;03m    e.g. calling it it multiple times may modify the field and configure it incorrectly.\u001B[39;00m\n\u001B[0;32m    543\u001B[0m \u001B[38;5;124;03m    \"\"\"\u001B[39;00m\n\u001B[1;32m--> 544\u001B[0m     \u001B[38;5;28;43mself\u001B[39;49m\u001B[38;5;241;43m.\u001B[39;49m\u001B[43m_set_default_and_type\u001B[49m\u001B[43m(\u001B[49m\u001B[43m)\u001B[49m\n\u001B[0;32m    545\u001B[0m     \u001B[38;5;28;01mif\u001B[39;00m \u001B[38;5;28mself\u001B[39m\u001B[38;5;241m.\u001B[39mtype_\u001B[38;5;241m.\u001B[39m\u001B[38;5;18m__class__\u001B[39m \u001B[38;5;129;01mis\u001B[39;00m ForwardRef \u001B[38;5;129;01mor\u001B[39;00m \u001B[38;5;28mself\u001B[39m\u001B[38;5;241m.\u001B[39mtype_\u001B[38;5;241m.\u001B[39m\u001B[38;5;18m__class__\u001B[39m \u001B[38;5;129;01mis\u001B[39;00m DeferredType:\n\u001B[0;32m    546\u001B[0m         \u001B[38;5;66;03m# self.type_ is currently a ForwardRef and there's nothing we can do now,\u001B[39;00m\n\u001B[0;32m    547\u001B[0m         \u001B[38;5;66;03m# user will need to call model.update_forward_refs()\u001B[39;00m\n\u001B[0;32m    548\u001B[0m         \u001B[38;5;28;01mreturn\u001B[39;00m\n",
      "File \u001B[1;32m~\\AppData\\Local\\Programs\\Python\\Python310\\lib\\site-packages\\pydantic\\v1\\fields.py:568\u001B[0m, in \u001B[0;36mModelField._set_default_and_type\u001B[1;34m(self)\u001B[0m\n\u001B[0;32m    563\u001B[0m         \u001B[38;5;28;01mraise\u001B[39;00m errors_\u001B[38;5;241m.\u001B[39mConfigError(\n\u001B[0;32m    564\u001B[0m             \u001B[38;5;124mf\u001B[39m\u001B[38;5;124m'\u001B[39m\u001B[38;5;124myou need to set the type of field \u001B[39m\u001B[38;5;132;01m{\u001B[39;00m\u001B[38;5;28mself\u001B[39m\u001B[38;5;241m.\u001B[39mname\u001B[38;5;132;01m!r}\u001B[39;00m\u001B[38;5;124m when using `default_factory`\u001B[39m\u001B[38;5;124m'\u001B[39m\n\u001B[0;32m    565\u001B[0m         )\n\u001B[0;32m    566\u001B[0m     \u001B[38;5;28;01mreturn\u001B[39;00m\n\u001B[1;32m--> 568\u001B[0m default_value \u001B[38;5;241m=\u001B[39m \u001B[38;5;28;43mself\u001B[39;49m\u001B[38;5;241;43m.\u001B[39;49m\u001B[43mget_default\u001B[49m\u001B[43m(\u001B[49m\u001B[43m)\u001B[49m\n\u001B[0;32m    570\u001B[0m \u001B[38;5;28;01mif\u001B[39;00m default_value \u001B[38;5;129;01mis\u001B[39;00m \u001B[38;5;129;01mnot\u001B[39;00m \u001B[38;5;28;01mNone\u001B[39;00m \u001B[38;5;129;01mand\u001B[39;00m \u001B[38;5;28mself\u001B[39m\u001B[38;5;241m.\u001B[39mtype_ \u001B[38;5;129;01mis\u001B[39;00m Undefined:\n\u001B[0;32m    571\u001B[0m     \u001B[38;5;28mself\u001B[39m\u001B[38;5;241m.\u001B[39mtype_ \u001B[38;5;241m=\u001B[39m default_value\u001B[38;5;241m.\u001B[39m\u001B[38;5;18m__class__\u001B[39m\n",
      "File \u001B[1;32m~\\AppData\\Local\\Programs\\Python\\Python310\\lib\\site-packages\\pydantic\\v1\\fields.py:437\u001B[0m, in \u001B[0;36mModelField.get_default\u001B[1;34m(self)\u001B[0m\n\u001B[0;32m    436\u001B[0m \u001B[38;5;28;01mdef\u001B[39;00m \u001B[38;5;21mget_default\u001B[39m(\u001B[38;5;28mself\u001B[39m) \u001B[38;5;241m-\u001B[39m\u001B[38;5;241m>\u001B[39m Any:\n\u001B[1;32m--> 437\u001B[0m     \u001B[38;5;28;01mreturn\u001B[39;00m \u001B[43msmart_deepcopy\u001B[49m\u001B[43m(\u001B[49m\u001B[38;5;28;43mself\u001B[39;49m\u001B[38;5;241;43m.\u001B[39;49m\u001B[43mdefault\u001B[49m\u001B[43m)\u001B[49m \u001B[38;5;28;01mif\u001B[39;00m \u001B[38;5;28mself\u001B[39m\u001B[38;5;241m.\u001B[39mdefault_factory \u001B[38;5;129;01mis\u001B[39;00m \u001B[38;5;28;01mNone\u001B[39;00m \u001B[38;5;28;01melse\u001B[39;00m \u001B[38;5;28mself\u001B[39m\u001B[38;5;241m.\u001B[39mdefault_factory()\n",
      "File \u001B[1;32m~\\AppData\\Local\\Programs\\Python\\Python310\\lib\\site-packages\\pydantic\\v1\\utils.py:693\u001B[0m, in \u001B[0;36msmart_deepcopy\u001B[1;34m(obj)\u001B[0m\n\u001B[0;32m    689\u001B[0m \u001B[38;5;28;01mexcept\u001B[39;00m (\u001B[38;5;167;01mTypeError\u001B[39;00m, \u001B[38;5;167;01mValueError\u001B[39;00m, \u001B[38;5;167;01mRuntimeError\u001B[39;00m):\n\u001B[0;32m    690\u001B[0m     \u001B[38;5;66;03m# do we really dare to catch ALL errors? Seems a bit risky\u001B[39;00m\n\u001B[0;32m    691\u001B[0m     \u001B[38;5;28;01mpass\u001B[39;00m\n\u001B[1;32m--> 693\u001B[0m \u001B[38;5;28;01mreturn\u001B[39;00m \u001B[43mdeepcopy\u001B[49m\u001B[43m(\u001B[49m\u001B[43mobj\u001B[49m\u001B[43m)\u001B[49m\n",
      "File \u001B[1;32m~\\AppData\\Local\\Programs\\Python\\Python310\\lib\\copy.py:172\u001B[0m, in \u001B[0;36mdeepcopy\u001B[1;34m(x, memo, _nil)\u001B[0m\n\u001B[0;32m    170\u001B[0m                 y \u001B[38;5;241m=\u001B[39m x\n\u001B[0;32m    171\u001B[0m             \u001B[38;5;28;01melse\u001B[39;00m:\n\u001B[1;32m--> 172\u001B[0m                 y \u001B[38;5;241m=\u001B[39m \u001B[43m_reconstruct\u001B[49m\u001B[43m(\u001B[49m\u001B[43mx\u001B[49m\u001B[43m,\u001B[49m\u001B[43m \u001B[49m\u001B[43mmemo\u001B[49m\u001B[43m,\u001B[49m\u001B[43m \u001B[49m\u001B[38;5;241;43m*\u001B[39;49m\u001B[43mrv\u001B[49m\u001B[43m)\u001B[49m\n\u001B[0;32m    174\u001B[0m \u001B[38;5;66;03m# If is its own copy, don't memoize.\u001B[39;00m\n\u001B[0;32m    175\u001B[0m \u001B[38;5;28;01mif\u001B[39;00m y \u001B[38;5;129;01mis\u001B[39;00m \u001B[38;5;129;01mnot\u001B[39;00m x:\n",
      "File \u001B[1;32m~\\AppData\\Local\\Programs\\Python\\Python310\\lib\\copy.py:271\u001B[0m, in \u001B[0;36m_reconstruct\u001B[1;34m(x, memo, func, args, state, listiter, dictiter, deepcopy)\u001B[0m\n\u001B[0;32m    269\u001B[0m \u001B[38;5;28;01mif\u001B[39;00m state \u001B[38;5;129;01mis\u001B[39;00m \u001B[38;5;129;01mnot\u001B[39;00m \u001B[38;5;28;01mNone\u001B[39;00m:\n\u001B[0;32m    270\u001B[0m     \u001B[38;5;28;01mif\u001B[39;00m deep:\n\u001B[1;32m--> 271\u001B[0m         state \u001B[38;5;241m=\u001B[39m \u001B[43mdeepcopy\u001B[49m\u001B[43m(\u001B[49m\u001B[43mstate\u001B[49m\u001B[43m,\u001B[49m\u001B[43m \u001B[49m\u001B[43mmemo\u001B[49m\u001B[43m)\u001B[49m\n\u001B[0;32m    272\u001B[0m     \u001B[38;5;28;01mif\u001B[39;00m \u001B[38;5;28mhasattr\u001B[39m(y, \u001B[38;5;124m'\u001B[39m\u001B[38;5;124m__setstate__\u001B[39m\u001B[38;5;124m'\u001B[39m):\n\u001B[0;32m    273\u001B[0m         y\u001B[38;5;241m.\u001B[39m__setstate__(state)\n",
      "File \u001B[1;32m~\\AppData\\Local\\Programs\\Python\\Python310\\lib\\copy.py:146\u001B[0m, in \u001B[0;36mdeepcopy\u001B[1;34m(x, memo, _nil)\u001B[0m\n\u001B[0;32m    144\u001B[0m copier \u001B[38;5;241m=\u001B[39m _deepcopy_dispatch\u001B[38;5;241m.\u001B[39mget(\u001B[38;5;28mcls\u001B[39m)\n\u001B[0;32m    145\u001B[0m \u001B[38;5;28;01mif\u001B[39;00m copier \u001B[38;5;129;01mis\u001B[39;00m \u001B[38;5;129;01mnot\u001B[39;00m \u001B[38;5;28;01mNone\u001B[39;00m:\n\u001B[1;32m--> 146\u001B[0m     y \u001B[38;5;241m=\u001B[39m \u001B[43mcopier\u001B[49m\u001B[43m(\u001B[49m\u001B[43mx\u001B[49m\u001B[43m,\u001B[49m\u001B[43m \u001B[49m\u001B[43mmemo\u001B[49m\u001B[43m)\u001B[49m\n\u001B[0;32m    147\u001B[0m \u001B[38;5;28;01melse\u001B[39;00m:\n\u001B[0;32m    148\u001B[0m     \u001B[38;5;28;01mif\u001B[39;00m \u001B[38;5;28missubclass\u001B[39m(\u001B[38;5;28mcls\u001B[39m, \u001B[38;5;28mtype\u001B[39m):\n",
      "File \u001B[1;32m~\\AppData\\Local\\Programs\\Python\\Python310\\lib\\copy.py:231\u001B[0m, in \u001B[0;36m_deepcopy_dict\u001B[1;34m(x, memo, deepcopy)\u001B[0m\n\u001B[0;32m    229\u001B[0m memo[\u001B[38;5;28mid\u001B[39m(x)] \u001B[38;5;241m=\u001B[39m y\n\u001B[0;32m    230\u001B[0m \u001B[38;5;28;01mfor\u001B[39;00m key, value \u001B[38;5;129;01min\u001B[39;00m x\u001B[38;5;241m.\u001B[39mitems():\n\u001B[1;32m--> 231\u001B[0m     y[deepcopy(key, memo)] \u001B[38;5;241m=\u001B[39m \u001B[43mdeepcopy\u001B[49m\u001B[43m(\u001B[49m\u001B[43mvalue\u001B[49m\u001B[43m,\u001B[49m\u001B[43m \u001B[49m\u001B[43mmemo\u001B[49m\u001B[43m)\u001B[49m\n\u001B[0;32m    232\u001B[0m \u001B[38;5;28;01mreturn\u001B[39;00m y\n",
      "File \u001B[1;32m~\\AppData\\Local\\Programs\\Python\\Python310\\lib\\copy.py:161\u001B[0m, in \u001B[0;36mdeepcopy\u001B[1;34m(x, memo, _nil)\u001B[0m\n\u001B[0;32m    159\u001B[0m reductor \u001B[38;5;241m=\u001B[39m \u001B[38;5;28mgetattr\u001B[39m(x, \u001B[38;5;124m\"\u001B[39m\u001B[38;5;124m__reduce_ex__\u001B[39m\u001B[38;5;124m\"\u001B[39m, \u001B[38;5;28;01mNone\u001B[39;00m)\n\u001B[0;32m    160\u001B[0m \u001B[38;5;28;01mif\u001B[39;00m reductor \u001B[38;5;129;01mis\u001B[39;00m \u001B[38;5;129;01mnot\u001B[39;00m \u001B[38;5;28;01mNone\u001B[39;00m:\n\u001B[1;32m--> 161\u001B[0m     rv \u001B[38;5;241m=\u001B[39m \u001B[43mreductor\u001B[49m\u001B[43m(\u001B[49m\u001B[38;5;241;43m4\u001B[39;49m\u001B[43m)\u001B[49m\n\u001B[0;32m    162\u001B[0m \u001B[38;5;28;01melse\u001B[39;00m:\n\u001B[0;32m    163\u001B[0m     reductor \u001B[38;5;241m=\u001B[39m \u001B[38;5;28mgetattr\u001B[39m(x, \u001B[38;5;124m\"\u001B[39m\u001B[38;5;124m__reduce__\u001B[39m\u001B[38;5;124m\"\u001B[39m, \u001B[38;5;28;01mNone\u001B[39;00m)\n",
      "\u001B[1;31mTypeError\u001B[0m: cannot pickle 'classmethod' object"
     ]
    }
   ],
   "execution_count": 6
  },
  {
   "metadata": {
    "ExecuteTime": {
     "end_time": "2024-10-15T21:19:38.598424Z",
     "start_time": "2024-10-15T21:19:38.571908Z"
    }
   },
   "cell_type": "code",
   "source": [
    "# Set up environment variables\n",
    "translate_key = os.getenv(\"AZURE_TRANSLATE_API_KEY\")\n",
    "translate_endpoint = os.getenv(\"AZURE_TRANSLATE_ENDPOINT\")\n",
    "region = \"westus2\"  # Specify your Azure region\n",
    "\n",
    "# Instantiate the AzureTranslateTool\n",
    "translate_tool = AzureTranslateTool(\n",
    "    text_translation_key=translate_key,\n",
    "    text_translation_endpoint=translate_endpoint,\n",
    "    region=region,\n",
    ")\n"
   ],
   "id": "c4e87adcce4d7ced",
   "outputs": [
    {
     "ename": "NameError",
     "evalue": "name 'AzureTranslateTool' is not defined",
     "output_type": "error",
     "traceback": [
      "\u001B[1;31m---------------------------------------------------------------------------\u001B[0m",
      "\u001B[1;31mNameError\u001B[0m                                 Traceback (most recent call last)",
      "Cell \u001B[1;32mIn[7], line 7\u001B[0m\n\u001B[0;32m      4\u001B[0m region \u001B[38;5;241m=\u001B[39m \u001B[38;5;124m\"\u001B[39m\u001B[38;5;124mwestus2\u001B[39m\u001B[38;5;124m\"\u001B[39m  \u001B[38;5;66;03m# Specify your Azure region\u001B[39;00m\n\u001B[0;32m      6\u001B[0m \u001B[38;5;66;03m# Instantiate the AzureTranslateTool\u001B[39;00m\n\u001B[1;32m----> 7\u001B[0m translate_tool \u001B[38;5;241m=\u001B[39m \u001B[43mAzureTranslateTool\u001B[49m(\n\u001B[0;32m      8\u001B[0m     text_translation_key\u001B[38;5;241m=\u001B[39mtranslate_key,\n\u001B[0;32m      9\u001B[0m     text_translation_endpoint\u001B[38;5;241m=\u001B[39mtranslate_endpoint,\n\u001B[0;32m     10\u001B[0m     region\u001B[38;5;241m=\u001B[39mregion,\n\u001B[0;32m     11\u001B[0m )\n",
      "\u001B[1;31mNameError\u001B[0m: name 'AzureTranslateTool' is not defined"
     ]
    }
   ],
   "execution_count": 7
  },
  {
   "metadata": {
    "ExecuteTime": {
     "end_time": "2024-10-15T21:19:26.375435Z",
     "start_time": "2024-10-15T21:19:26.367437Z"
    }
   },
   "cell_type": "code",
   "source": [
    "def translate_text(input_text):\n",
    "    # Create a HumanMessage for the input\n",
    "    human_message = agents.HumanMessage(content=input_text)\n",
    "    \n",
    "    # Translate the input text using the AzureTranslateTool\n",
    "    translated_text = translate_tool._run(human_message.content, to_language='pt')  \n",
    "    \n",
    "    # Create an AIMessage for the output\n",
    "    ai_message = agents.AIMessage(content=f\"Translated text: {translated_text}\")\n",
    "    \n",
    "    return ai_message\n",
    "\n"
   ],
   "id": "4159b2e76f26917a",
   "outputs": [],
   "execution_count": 4
  },
  {
   "metadata": {
    "ExecuteTime": {
     "end_time": "2024-10-15T21:19:28.093968Z",
     "start_time": "2024-10-15T21:19:28.061970Z"
    }
   },
   "cell_type": "code",
   "source": [
    "# Simulate user input\n",
    "user_input = \"hola mundo\"  # \n",
    "\n",
    "# Call the translation function\n",
    "response = translate_text(user_input)\n",
    "\n",
    "# Print the AI's response\n",
    "print(response.content) \n",
    "\n"
   ],
   "id": "109d9b246e1eaea5",
   "outputs": [
    {
     "ename": "NameError",
     "evalue": "name 'agents' is not defined",
     "output_type": "error",
     "traceback": [
      "\u001B[1;31m---------------------------------------------------------------------------\u001B[0m",
      "\u001B[1;31mNameError\u001B[0m                                 Traceback (most recent call last)",
      "Cell \u001B[1;32mIn[5], line 5\u001B[0m\n\u001B[0;32m      2\u001B[0m user_input \u001B[38;5;241m=\u001B[39m \u001B[38;5;124m\"\u001B[39m\u001B[38;5;124mhola mundo\u001B[39m\u001B[38;5;124m\"\u001B[39m  \u001B[38;5;66;03m# \u001B[39;00m\n\u001B[0;32m      4\u001B[0m \u001B[38;5;66;03m# Call the translation function\u001B[39;00m\n\u001B[1;32m----> 5\u001B[0m response \u001B[38;5;241m=\u001B[39m \u001B[43mtranslate_text\u001B[49m\u001B[43m(\u001B[49m\u001B[43muser_input\u001B[49m\u001B[43m)\u001B[49m\n\u001B[0;32m      7\u001B[0m \u001B[38;5;66;03m# Print the AI's response\u001B[39;00m\n\u001B[0;32m      8\u001B[0m \u001B[38;5;28mprint\u001B[39m(response\u001B[38;5;241m.\u001B[39mcontent) \n",
      "Cell \u001B[1;32mIn[4], line 3\u001B[0m, in \u001B[0;36mtranslate_text\u001B[1;34m(input_text)\u001B[0m\n\u001B[0;32m      1\u001B[0m \u001B[38;5;28;01mdef\u001B[39;00m \u001B[38;5;21mtranslate_text\u001B[39m(input_text):\n\u001B[0;32m      2\u001B[0m     \u001B[38;5;66;03m# Create a HumanMessage for the input\u001B[39;00m\n\u001B[1;32m----> 3\u001B[0m     human_message \u001B[38;5;241m=\u001B[39m \u001B[43magents\u001B[49m\u001B[38;5;241m.\u001B[39mHumanMessage(content\u001B[38;5;241m=\u001B[39minput_text)\n\u001B[0;32m      5\u001B[0m     \u001B[38;5;66;03m# Translate the input text using the AzureTranslateTool\u001B[39;00m\n\u001B[0;32m      6\u001B[0m     translated_text \u001B[38;5;241m=\u001B[39m translate_tool\u001B[38;5;241m.\u001B[39m_run(human_message\u001B[38;5;241m.\u001B[39mcontent, to_language\u001B[38;5;241m=\u001B[39m\u001B[38;5;124m'\u001B[39m\u001B[38;5;124mpt\u001B[39m\u001B[38;5;124m'\u001B[39m)  \n",
      "\u001B[1;31mNameError\u001B[0m: name 'agents' is not defined"
     ]
    }
   ],
   "execution_count": 5
  }
 ],
 "metadata": {
  "kernelspec": {
   "display_name": "Python 3",
   "language": "python",
   "name": "python3"
  },
  "language_info": {
   "codemirror_mode": {
    "name": "ipython",
    "version": 2
   },
   "file_extension": ".py",
   "mimetype": "text/x-python",
   "name": "python",
   "nbconvert_exporter": "python",
   "pygments_lexer": "ipython2",
   "version": "2.7.6"
  }
 },
 "nbformat": 4,
 "nbformat_minor": 5
}
