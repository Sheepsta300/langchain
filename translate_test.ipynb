{
 "cells": [
  {
   "cell_type": "code",
   "id": "initial_id",
   "metadata": {
    "collapsed": true,
    "ExecuteTime": {
     "end_time": "2024-10-03T04:08:15.621084Z",
     "start_time": "2024-10-03T04:08:15.603085Z"
    }
   },
   "source": [
    "\n",
    "import os\n",
    "from dotenv import load_dotenv\n",
    "from libs.community.langchain_community.tools.azure_ai_services.azure_translate import AzureTranslateTool\n",
    "from langchain_core.prompts import PromptTemplate\n",
    "load_dotenv()  "
   ],
   "outputs": [
    {
     "ename": "ModuleNotFoundError",
     "evalue": "No module named 'libs.community.langchain_community.tools.azure_ai_services.azure_translate'",
     "output_type": "error",
     "traceback": [
      "\u001B[1;31m---------------------------------------------------------------------------\u001B[0m",
      "\u001B[1;31mModuleNotFoundError\u001B[0m                       Traceback (most recent call last)",
      "Cell \u001B[1;32mIn[9], line 3\u001B[0m\n\u001B[0;32m      1\u001B[0m \u001B[38;5;28;01mimport\u001B[39;00m \u001B[38;5;21;01mos\u001B[39;00m\n\u001B[0;32m      2\u001B[0m \u001B[38;5;28;01mfrom\u001B[39;00m \u001B[38;5;21;01mdotenv\u001B[39;00m \u001B[38;5;28;01mimport\u001B[39;00m load_dotenv\n\u001B[1;32m----> 3\u001B[0m \u001B[38;5;28;01mfrom\u001B[39;00m \u001B[38;5;21;01mlibs\u001B[39;00m\u001B[38;5;21;01m.\u001B[39;00m\u001B[38;5;21;01mcommunity\u001B[39;00m\u001B[38;5;21;01m.\u001B[39;00m\u001B[38;5;21;01mlangchain_community\u001B[39;00m\u001B[38;5;21;01m.\u001B[39;00m\u001B[38;5;21;01mtools\u001B[39;00m\u001B[38;5;21;01m.\u001B[39;00m\u001B[38;5;21;01mazure_ai_services\u001B[39;00m\u001B[38;5;21;01m.\u001B[39;00m\u001B[38;5;21;01mazure_translate\u001B[39;00m \u001B[38;5;28;01mimport\u001B[39;00m AzureTranslateTool\n\u001B[0;32m      4\u001B[0m \u001B[38;5;28;01mfrom\u001B[39;00m \u001B[38;5;21;01mlangchain_core\u001B[39;00m\u001B[38;5;21;01m.\u001B[39;00m\u001B[38;5;21;01mprompts\u001B[39;00m \u001B[38;5;28;01mimport\u001B[39;00m PromptTemplate\n\u001B[0;32m      5\u001B[0m load_dotenv()  \n",
      "\u001B[1;31mModuleNotFoundError\u001B[0m: No module named 'libs.community.langchain_community.tools.azure_ai_services.azure_translate'"
     ]
    }
   ],
   "execution_count": 9
  },
  {
   "metadata": {
    "ExecuteTime": {
     "end_time": "2024-10-03T04:08:09.212331Z",
     "start_time": "2024-10-03T04:08:09.208331Z"
    }
   },
   "cell_type": "code",
   "source": [
    "translate_key = os.getenv('AZURE_OPENAI_TRANSLATE_API_KEY')\n",
    "translate_endpoint = os.getenv('AZURE_OPENAI_TRANSLATE_ENDPOINT')\n",
    "\n",
    "assert translate_key is not None, \"AZURE_OPENAI_TRANSLATE_API_KEY is not set.\"\n",
    "assert translate_endpoint is not None, \"AZURE_OPENAI_TRANSLATE_ENDPOINT is not set.\""
   ],
   "id": "d16a2afc75afc1a4",
   "outputs": [],
   "execution_count": 3
  },
  {
   "metadata": {
    "ExecuteTime": {
     "end_time": "2024-10-03T04:08:09.400411Z",
     "start_time": "2024-10-03T04:08:09.369412Z"
    }
   },
   "cell_type": "code",
   "source": "translator = AzureTranslateTool(translate_key=translate_key, translate_endpoint=translate_endpoint)",
   "id": "6a9a508bab82e582",
   "outputs": [
    {
     "ename": "NameError",
     "evalue": "name 'AzureTranslateTool' is not defined",
     "output_type": "error",
     "traceback": [
      "\u001B[1;31m---------------------------------------------------------------------------\u001B[0m",
      "\u001B[1;31mNameError\u001B[0m                                 Traceback (most recent call last)",
      "Cell \u001B[1;32mIn[4], line 1\u001B[0m\n\u001B[1;32m----> 1\u001B[0m translator \u001B[38;5;241m=\u001B[39m \u001B[43mAzureTranslateTool\u001B[49m(translate_key\u001B[38;5;241m=\u001B[39mtranslate_key, translate_endpoint\u001B[38;5;241m=\u001B[39mtranslate_endpoint)\n",
      "\u001B[1;31mNameError\u001B[0m: name 'AzureTranslateTool' is not defined"
     ]
    }
   ],
   "execution_count": 4
  },
  {
   "metadata": {
    "ExecuteTime": {
     "end_time": "2024-10-03T04:08:09.558410Z",
     "start_time": "2024-10-03T04:08:09.530413Z"
    }
   },
   "cell_type": "code",
   "source": [
    "\n",
    "prompt = PromptTemplate(\n",
    "    input_variables=[\"input\"],\n",
    "    template=\"You are a translation agent. Use the translation tool to translate the following input: {input}\"\n",
    ")"
   ],
   "id": "e4d08ff8441d3ac1",
   "outputs": [
    {
     "ename": "NameError",
     "evalue": "name 'PromptTemplate' is not defined",
     "output_type": "error",
     "traceback": [
      "\u001B[1;31m---------------------------------------------------------------------------\u001B[0m",
      "\u001B[1;31mNameError\u001B[0m                                 Traceback (most recent call last)",
      "Cell \u001B[1;32mIn[5], line 1\u001B[0m\n\u001B[1;32m----> 1\u001B[0m prompt \u001B[38;5;241m=\u001B[39m \u001B[43mPromptTemplate\u001B[49m(\n\u001B[0;32m      2\u001B[0m     input_variables\u001B[38;5;241m=\u001B[39m[\u001B[38;5;124m\"\u001B[39m\u001B[38;5;124minput\u001B[39m\u001B[38;5;124m\"\u001B[39m],\n\u001B[0;32m      3\u001B[0m     template\u001B[38;5;241m=\u001B[39m\u001B[38;5;124m\"\u001B[39m\u001B[38;5;124mYou are a translation agent. Use the translation tool to translate the following input: \u001B[39m\u001B[38;5;132;01m{input}\u001B[39;00m\u001B[38;5;124m\"\u001B[39m\n\u001B[0;32m      4\u001B[0m )\n",
      "\u001B[1;31mNameError\u001B[0m: name 'PromptTemplate' is not defined"
     ]
    }
   ],
   "execution_count": 5
  },
  {
   "metadata": {
    "ExecuteTime": {
     "end_time": "2024-10-03T04:08:09.731125Z",
     "start_time": "2024-10-03T04:08:09.717161Z"
    }
   },
   "cell_type": "code",
   "source": [
    "def translate_text(input_text, target_language='es'):\n",
    "    try:\n",
    "        # Run the translation\n",
    "        translated_text = translator._run(input_text, target_language)\n",
    "        \n",
    "        # Format the result in a dictionary\n",
    "        result = {\n",
    "            'input': input_text,\n",
    "            'output': f\"The text '{input_text}' was translated to '{translated_text}' in {target_language}.\"\n",
    "        }\n",
    "        return result\n",
    "    except Exception as e:\n",
    "        return {'error': str(e)}"
   ],
   "id": "4467f2ee18e2201b",
   "outputs": [],
   "execution_count": 6
  },
  {
   "metadata": {
    "ExecuteTime": {
     "end_time": "2024-10-03T04:08:09.936177Z",
     "start_time": "2024-10-03T04:08:09.911146Z"
    }
   },
   "cell_type": "code",
   "source": [
    "# Sample text to translate\n",
    "sample_text = \"This is an example of the translation tool made by Capstone Project Team 3\"\n",
    "# Target language\n",
    "target_language = 'fr' \n",
    "# Perform translation using the defined function\n",
    "translated_result = translate_text(sample_text, target_language)\n",
    "print(f\"Original Text: {translated_result['input']}\")\n",
    "print(f\"Translated to {target_language}: {translated_result['output']}\")"
   ],
   "id": "bb5b638111ce6ae9",
   "outputs": [
    {
     "ename": "KeyError",
     "evalue": "'input'",
     "output_type": "error",
     "traceback": [
      "\u001B[1;31m---------------------------------------------------------------------------\u001B[0m",
      "\u001B[1;31mKeyError\u001B[0m                                  Traceback (most recent call last)",
      "Cell \u001B[1;32mIn[7], line 7\u001B[0m\n\u001B[0;32m      5\u001B[0m \u001B[38;5;66;03m# Perform translation using the defined function\u001B[39;00m\n\u001B[0;32m      6\u001B[0m translated_result \u001B[38;5;241m=\u001B[39m translate_text(sample_text, target_language)\n\u001B[1;32m----> 7\u001B[0m \u001B[38;5;28mprint\u001B[39m(\u001B[38;5;124mf\u001B[39m\u001B[38;5;124m\"\u001B[39m\u001B[38;5;124mOriginal Text: \u001B[39m\u001B[38;5;132;01m{\u001B[39;00mtranslated_result[\u001B[38;5;124m'\u001B[39m\u001B[38;5;124minput\u001B[39m\u001B[38;5;124m'\u001B[39m]\u001B[38;5;132;01m}\u001B[39;00m\u001B[38;5;124m\"\u001B[39m)\n\u001B[0;32m      8\u001B[0m \u001B[38;5;28mprint\u001B[39m(\u001B[38;5;124mf\u001B[39m\u001B[38;5;124m\"\u001B[39m\u001B[38;5;124mTranslated to \u001B[39m\u001B[38;5;132;01m{\u001B[39;00mtarget_language\u001B[38;5;132;01m}\u001B[39;00m\u001B[38;5;124m: \u001B[39m\u001B[38;5;132;01m{\u001B[39;00mtranslated_result[\u001B[38;5;124m'\u001B[39m\u001B[38;5;124moutput\u001B[39m\u001B[38;5;124m'\u001B[39m]\u001B[38;5;132;01m}\u001B[39;00m\u001B[38;5;124m\"\u001B[39m)\n",
      "\u001B[1;31mKeyError\u001B[0m: 'input'"
     ]
    }
   ],
   "execution_count": 7
  },
  {
   "metadata": {},
   "cell_type": "code",
   "outputs": [],
   "execution_count": null,
   "source": "",
   "id": "a026310fe89600af"
  }
 ],
 "metadata": {
  "kernelspec": {
   "display_name": "Python 3",
   "language": "python",
   "name": "python3"
  },
  "language_info": {
   "codemirror_mode": {
    "name": "ipython",
    "version": 2
   },
   "file_extension": ".py",
   "mimetype": "text/x-python",
   "name": "python",
   "nbconvert_exporter": "python",
   "pygments_lexer": "ipython2",
   "version": "2.7.6"
  }
 },
 "nbformat": 4,
 "nbformat_minor": 5
}
