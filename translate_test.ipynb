{
 "cells": [
  {
   "cell_type": "code",
   "id": "initial_id",
   "metadata": {
    "collapsed": true,
    "jupyter": {
     "is_executing": true
    }
   },
   "source": [
    "\n",
    "import os\n",
    "from dotenv import load_dotenv\n",
    "from libs.community.langchain_community.tools.azure_ai_services.translate_tool import AzureTranslateTool\n",
    "from langchain_core.prompts import PromptTemplate\n",
    "\n",
    "load_dotenv()"
   ],
   "outputs": [],
   "execution_count": null
  },
  {
   "metadata": {
    "ExecuteTime": {
     "end_time": "2024-10-10T02:47:56.337282Z",
     "start_time": "2024-10-10T02:47:56.322998Z"
    }
   },
   "cell_type": "code",
   "source": [
    "translate_key = os.getenv('AZURE_TRANSLATE_API_KEY')\n",
    "translate_endpoint = os.getenv('AZURE_TRANSLATE_ENDPOINT')\n"
   ],
   "id": "d16a2afc75afc1a4",
   "outputs": [],
   "execution_count": 9
  },
  {
   "metadata": {
    "ExecuteTime": {
     "end_time": "2024-10-10T02:47:56.353227Z",
     "start_time": "2024-10-10T02:47:56.338283Z"
    }
   },
   "cell_type": "code",
   "source": "translator = AzureTranslateTool(translate_key=translate_key, translate_endpoint=translate_endpoint)",
   "id": "6a9a508bab82e582",
   "outputs": [],
   "execution_count": 10
  },
  {
   "metadata": {
    "ExecuteTime": {
     "end_time": "2024-10-10T02:47:56.368993Z",
     "start_time": "2024-10-10T02:47:56.355229Z"
    }
   },
   "cell_type": "code",
   "source": [
    "\n",
    "prompt = PromptTemplate(\n",
    "    input_variables=['input'],\n",
    "    template=\"You are a translation agent. Use the translation tool to translate the following input: {input}\"\n",
    ")\n"
   ],
   "id": "e4d08ff8441d3ac1",
   "outputs": [],
   "execution_count": 11
  },
  {
   "metadata": {
    "ExecuteTime": {
     "end_time": "2024-10-10T02:47:56.384562Z",
     "start_time": "2024-10-10T02:47:56.369994Z"
    }
   },
   "cell_type": "code",
   "source": [
    "def translate_text(input_text, target_language='es'):\n",
    "    try:\n",
    "        # Run the translation\n",
    "        translated_text = translator._run(input_text, target_language)\n",
    "\n",
    "        # Format the result in a dictionary\n",
    "        result = {\n",
    "            'input': input_text,\n",
    "            'output': translated_text\n",
    "        }\n",
    "        return result\n",
    "\n",
    "    except Exception as e:\n",
    "        # Log the error and return an error dictionary\n",
    "        print(f\"Translation error: {e}\")\n",
    "        return {'error': str(e)}\n"
   ],
   "id": "4467f2ee18e2201b",
   "outputs": [],
   "execution_count": 12
  },
  {
   "metadata": {
    "ExecuteTime": {
     "end_time": "2024-10-10T02:48:03.660147Z",
     "start_time": "2024-10-10T02:48:02.915399Z"
    }
   },
   "cell_type": "code",
   "source": [
    "# Instantiate the AzureTranslateTool\n",
    "translator = AzureTranslateTool()\n",
    "\n",
    "# Sample text to translate\n",
    "sample_text = \"hi how are you?\"\n",
    "target_language = 'es'\n",
    "\n",
    "# Perform translation using the _translate_text method directly\n",
    "translated_text = translator._translate_text(sample_text, to_language=target_language)\n",
    "\n",
    "print(f\"Translated text: {translated_text}\")\n"
   ],
   "id": "bb5b638111ce6ae9",
   "outputs": [
    {
     "name": "stdout",
     "output_type": "stream",
     "text": [
      "Translated text: ¿Hola cómo estás?\n"
     ]
    }
   ],
   "execution_count": 14
  },
  {
   "metadata": {
    "ExecuteTime": {
     "end_time": "2024-10-10T02:47:57.242259Z",
     "start_time": "2024-10-10T02:47:57.227198Z"
    }
   },
   "cell_type": "code",
   "source": "",
   "id": "a026310fe89600af",
   "outputs": [],
   "execution_count": 13
  }
 ],
 "metadata": {
  "kernelspec": {
   "display_name": "Python 3",
   "language": "python",
   "name": "python3"
  },
  "language_info": {
   "codemirror_mode": {
    "name": "ipython",
    "version": 2
   },
   "file_extension": ".py",
   "mimetype": "text/x-python",
   "name": "python",
   "nbconvert_exporter": "python",
   "pygments_lexer": "ipython2",
   "version": "2.7.6"
  }
 },
 "nbformat": 4,
 "nbformat_minor": 5
}
