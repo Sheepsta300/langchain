{
 "cells": [
  {
   "cell_type": "markdown",
   "metadata": {},
   "source": [
    "# `AzureOpenAIWhisperParser`"
   ]
  },
  {
   "cell_type": "code",
   "execution_count": 3,
   "metadata": {},
   "outputs": [],
   "source": [
    "from libs.community.langchain_community.document_loaders.parsers.audio import AzureOpenAIWhisperParser\n",
    "from libs.core.langchain_core.documents.base import Blob"
   ]
  },
  {
   "cell_type": "code",
   "execution_count": null,
   "metadata": {},
   "outputs": [],
   "source": [
    "import os\n",
    "from dotenv import load_dotenv\n",
    "load_dotenv()"
   ]
  },
  {
   "cell_type": "markdown",
   "metadata": {},
   "source": [
    "When initialising the Parser, Azure credentials like an Azure Endpoint, API key etc can either be passed as parameters like shown below with `deployment_name`, or they will be retrieved by `os.environ` in the constructor."
   ]
  },
  {
   "cell_type": "code",
   "execution_count": 4,
   "metadata": {},
   "outputs": [],
   "source": [
    "whisper = AzureOpenAIWhisperParser(deployment_name=os.environ['WHISPER_MODEL'])"
   ]
  },
  {
   "cell_type": "markdown",
   "metadata": {},
   "source": [
    "The parser inherits from `BaseBlobParser`, a LangChain core class, which defines a `.lazy_parse` method that requires a `Blob` instance as a parameter."
   ]
  },
  {
   "cell_type": "code",
   "execution_count": 5,
   "metadata": {},
   "outputs": [],
   "source": [
    "audio_path = 'Youtube/A Cat That Sits Like This.m4a'\n",
    "\n",
    "audio_blob = Blob(path = audio_path)"
   ]
  },
  {
   "cell_type": "code",
   "execution_count": 6,
   "metadata": {},
   "outputs": [],
   "source": [
    "docs = list(whisper.lazy_parse(audio_blob))"
   ]
  },
  {
   "cell_type": "code",
   "execution_count": null,
   "metadata": {},
   "outputs": [],
   "source": [
    "docs[0].page_content"
   ]
  },
  {
   "cell_type": "markdown",
   "metadata": {},
   "source": [
    "The parser can also be used in conjunction with other LangChain audio loaders like the `YoutubeAudioLoader` and `GenericLoader`"
   ]
  },
  {
   "cell_type": "code",
   "execution_count": 8,
   "metadata": {},
   "outputs": [],
   "source": [
    "from langchain_community.document_loaders.blob_loaders.youtube_audio import YoutubeAudioLoader\n",
    "from langchain_community.document_loaders.generic import GenericLoader"
   ]
  },
  {
   "cell_type": "markdown",
   "metadata": {},
   "source": [
    "This video has already been downloaded so the `YoutubeAudioLoader` wont download it again."
   ]
  },
  {
   "cell_type": "code",
   "execution_count": null,
   "metadata": {},
   "outputs": [],
   "source": [
    "# Must be a list\n",
    "url=[\"https://www.youtube.com/watch?v=BCyMH6XSGLU\"]\n",
    "\n",
    "save_dir=\"Youtube/\"\n",
    "\n",
    "loader=GenericLoader(YoutubeAudioLoader(url, save_dir),\n",
    "    AzureOpenAIWhisperParser(deployment_name=os.environ['WHISPER_MODEL'])\n",
    ")\n",
    "\n",
    "docs=list(loader.load())"
   ]
  },
  {
   "cell_type": "code",
   "execution_count": null,
   "metadata": {},
   "outputs": [],
   "source": [
    "docs[0].page_content"
   ]
  }
 ],
 "metadata": {
  "kernelspec": {
   "display_name": "Python 3",
   "language": "python",
   "name": "python3"
  },
  "language_info": {
   "codemirror_mode": {
    "name": "ipython",
    "version": 3
   },
   "file_extension": ".py",
   "mimetype": "text/x-python",
   "name": "python",
   "nbconvert_exporter": "python",
   "pygments_lexer": "ipython3",
   "version": "3.12.6"
  }
 },
 "nbformat": 4,
 "nbformat_minor": 2
}
