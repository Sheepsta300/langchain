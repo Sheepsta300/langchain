{
 "cells": [
  {
   "cell_type": "markdown",
   "metadata": {},
   "source": [
    "# Amazon Personalize\n",
    "\n",
    "[Amazon Personalize](https://docs.aws.amazon.com/personalize/latest/dg/what-is-personalize.html) is a fully managed machine learning service that uses your data to generate item recommendations for your users. It can also generate user segments based on the users' affinity for certain items or item metadata.\n",
    "\n",
    "This notebook goes through how to use Amazon Personalize Chain. You need a Amazon Personalize campaign_arn or a recommender_arn before you get started with the below notebook.\n",
    "\n",
    "Following is a [tutorial](https://github.com/aws-samples/retail-demo-store/blob/master/workshop/1-Personalization/Lab-1-Introduction-and-data-preparation.ipynb) to setup a campaign_arn/recommender_arn on Amazon Personalize. Once the campaign_arn/recommender_arn is setup, you can use it in the langchain ecosystem. \n"
   ]
  },
  {
   "cell_type": "markdown",
   "metadata": {},
   "source": [
    "## 1. Install Dependencies"
   ]
  },
  {
   "cell_type": "code",
   "metadata": {
    "scrolled": true,
    "ExecuteTime": {
     "end_time": "2024-08-19T01:33:09.439066Z",
     "start_time": "2024-08-19T01:32:58.497402Z"
    }
   },
   "source": [
    "!pip install boto3"
   ],
   "outputs": [
    {
     "name": "stdout",
     "output_type": "stream",
     "text": [
      "Collecting boto3\n",
      "  Obtaining dependency information for boto3 from https://files.pythonhosted.org/packages/0e/da/d7d3a9ad530b6c05548bfabe6e163687a5039fbdfecbf07f7b5532fd077b/boto3-1.35.0-py3-none-any.whl.metadata\n",
      "  Downloading boto3-1.35.0-py3-none-any.whl.metadata (6.6 kB)\n",
      "Collecting botocore<1.36.0,>=1.35.0 (from boto3)\n",
      "  Obtaining dependency information for botocore<1.36.0,>=1.35.0 from https://files.pythonhosted.org/packages/10/02/c9dd0c025333137e98ff219dd106f367f241cdba869f79053fb2fa0f11a3/botocore-1.35.0-py3-none-any.whl.metadata\n",
      "  Downloading botocore-1.35.0-py3-none-any.whl.metadata (5.7 kB)\n",
      "Collecting jmespath<2.0.0,>=0.7.1 (from boto3)\n",
      "  Obtaining dependency information for jmespath<2.0.0,>=0.7.1 from https://files.pythonhosted.org/packages/31/b4/b9b800c45527aadd64d5b442f9b932b00648617eb5d63d2c7a6587b7cafc/jmespath-1.0.1-py3-none-any.whl.metadata\n",
      "  Downloading jmespath-1.0.1-py3-none-any.whl.metadata (7.6 kB)\n",
      "Collecting s3transfer<0.11.0,>=0.10.0 (from boto3)\n",
      "  Obtaining dependency information for s3transfer<0.11.0,>=0.10.0 from https://files.pythonhosted.org/packages/3c/4a/b221409913760d26cf4498b7b1741d510c82d3ad38381984a3ddc135ec66/s3transfer-0.10.2-py3-none-any.whl.metadata\n",
      "  Downloading s3transfer-0.10.2-py3-none-any.whl.metadata (1.7 kB)\n",
      "Requirement already satisfied: python-dateutil<3.0.0,>=2.1 in f:\\pycharm\\langchain\\.venv\\lib\\site-packages (from botocore<1.36.0,>=1.35.0->boto3) (2.9.0.post0)\n",
      "Collecting urllib3<1.27,>=1.25.4 (from botocore<1.36.0,>=1.35.0->boto3)\n",
      "  Obtaining dependency information for urllib3<1.27,>=1.25.4 from https://files.pythonhosted.org/packages/ae/6a/99eaaeae8becaa17a29aeb334a18e5d582d873b6f084c11f02581b8d7f7f/urllib3-1.26.19-py2.py3-none-any.whl.metadata\n",
      "  Downloading urllib3-1.26.19-py2.py3-none-any.whl.metadata (49 kB)\n",
      "     ---------------------------------------- 0.0/49.3 kB ? eta -:--:--\n",
      "     ---------------------------------------- 49.3/49.3 kB 1.3 MB/s eta 0:00:00\n",
      "Requirement already satisfied: six>=1.5 in f:\\pycharm\\langchain\\.venv\\lib\\site-packages (from python-dateutil<3.0.0,>=2.1->botocore<1.36.0,>=1.35.0->boto3) (1.16.0)\n",
      "Downloading boto3-1.35.0-py3-none-any.whl (139 kB)\n",
      "   ---------------------------------------- 0.0/139.1 kB ? eta -:--:--\n",
      "   ---------------------------------------- 139.1/139.1 kB 4.2 MB/s eta 0:00:00\n",
      "Downloading botocore-1.35.0-py3-none-any.whl (12.5 MB)\n",
      "   ---------------------------------------- 0.0/12.5 MB ? eta -:--:--\n",
      "   -- ------------------------------------- 0.7/12.5 MB 14.6 MB/s eta 0:00:01\n",
      "   ------ --------------------------------- 2.0/12.5 MB 21.3 MB/s eta 0:00:01\n",
      "   ------------ --------------------------- 3.8/12.5 MB 26.8 MB/s eta 0:00:01\n",
      "   ---------------- ----------------------- 5.1/12.5 MB 29.8 MB/s eta 0:00:01\n",
      "   ---------------- ----------------------- 5.1/12.5 MB 29.8 MB/s eta 0:00:01\n",
      "   ---------------- ----------------------- 5.2/12.5 MB 20.6 MB/s eta 0:00:01\n",
      "   ------------------ --------------------- 5.8/12.5 MB 18.4 MB/s eta 0:00:01\n",
      "   ------------------ --------------------- 5.9/12.5 MB 16.4 MB/s eta 0:00:01\n",
      "   -------------------- ------------------- 6.3/12.5 MB 14.9 MB/s eta 0:00:01\n",
      "   --------------------- ------------------ 6.6/12.5 MB 14.6 MB/s eta 0:00:01\n",
      "   ---------------------- ----------------- 7.1/12.5 MB 13.8 MB/s eta 0:00:01\n",
      "   ------------------------ --------------- 7.5/12.5 MB 13.7 MB/s eta 0:00:01\n",
      "   ------------------------- -------------- 7.9/12.5 MB 13.0 MB/s eta 0:00:01\n",
      "   -------------------------- ------------- 8.4/12.5 MB 12.8 MB/s eta 0:00:01\n",
      "   ---------------------------- ----------- 8.9/12.5 MB 12.7 MB/s eta 0:00:01\n",
      "   ----------------------------- ---------- 9.2/12.5 MB 12.3 MB/s eta 0:00:01\n",
      "   ---------------------------------- ----- 10.9/12.5 MB 13.6 MB/s eta 0:00:01\n",
      "   ---------------------------------------  12.5/12.5 MB 13.9 MB/s eta 0:00:01\n",
      "   ---------------------------------------- 12.5/12.5 MB 12.8 MB/s eta 0:00:00\n",
      "Downloading jmespath-1.0.1-py3-none-any.whl (20 kB)\n",
      "Downloading s3transfer-0.10.2-py3-none-any.whl (82 kB)\n",
      "   ---------------------------------------- 0.0/82.7 kB ? eta -:--:--\n",
      "   ---------------------------------------- 82.7/82.7 kB 4.5 MB/s eta 0:00:00\n",
      "Downloading urllib3-1.26.19-py2.py3-none-any.whl (143 kB)\n",
      "   ---------------------------------------- 0.0/143.9 kB ? eta -:--:--\n",
      "   ---------------------------------------  143.4/143.9 kB 8.3 MB/s eta 0:00:01\n",
      "   ---------------------------------------- 143.9/143.9 kB 2.1 MB/s eta 0:00:00\n",
      "Installing collected packages: urllib3, jmespath, botocore, s3transfer, boto3\n",
      "  Attempting uninstall: urllib3\n",
      "    Found existing installation: urllib3 2.2.2\n",
      "    Uninstalling urllib3-2.2.2:\n",
      "      Successfully uninstalled urllib3-2.2.2\n",
      "Successfully installed boto3-1.35.0 botocore-1.35.0 jmespath-1.0.1 s3transfer-0.10.2 urllib3-1.26.19\n"
     ]
    },
    {
     "name": "stderr",
     "output_type": "stream",
     "text": [
      "\n",
      "[notice] A new release of pip is available: 23.2.1 -> 24.2\n",
      "[notice] To update, run: python.exe -m pip install --upgrade pip\n"
     ]
    }
   ],
   "execution_count": 2
  },
  {
   "cell_type": "markdown",
   "metadata": {},
   "source": [
    "## 2. Sample Use-cases"
   ]
  },
  {
   "cell_type": "markdown",
   "metadata": {},
   "source": [
    "### 2.1 [Use-case-1] Setup Amazon Personalize Client and retrieve recommendations"
   ]
  },
  {
   "cell_type": "code",
   "metadata": {
    "ExecuteTime": {
     "end_time": "2024-08-19T01:33:23.365722Z",
     "start_time": "2024-08-19T01:33:23.328815Z"
    }
   },
   "source": [
    "from langchain_experimental.recommenders import AmazonPersonalize\n",
    "\n",
    "recommender_arn = \"<insert_arn>\"\n",
    "\n",
    "client = AmazonPersonalize(\n",
    "    credentials_profile_name=\"default\",\n",
    "    region_name=\"us-west-2\",\n",
    "    recommender_arn=recommender_arn,\n",
    ")\n",
    "client.get_recommendations(user_id=\"1\")"
   ],
   "outputs": [
    {
     "ename": "ModuleNotFoundError",
     "evalue": "No module named 'langchain_experimental'",
     "output_type": "error",
     "traceback": [
      "\u001B[1;31m---------------------------------------------------------------------------\u001B[0m",
      "\u001B[1;31mModuleNotFoundError\u001B[0m                       Traceback (most recent call last)",
      "Cell \u001B[1;32mIn[3], line 1\u001B[0m\n\u001B[1;32m----> 1\u001B[0m \u001B[38;5;28;01mfrom\u001B[39;00m \u001B[38;5;21;01mlangchain_experimental\u001B[39;00m\u001B[38;5;21;01m.\u001B[39;00m\u001B[38;5;21;01mrecommenders\u001B[39;00m \u001B[38;5;28;01mimport\u001B[39;00m AmazonPersonalize\n\u001B[0;32m      3\u001B[0m recommender_arn \u001B[38;5;241m=\u001B[39m \u001B[38;5;124m\"\u001B[39m\u001B[38;5;124m<insert_arn>\u001B[39m\u001B[38;5;124m\"\u001B[39m\n\u001B[0;32m      5\u001B[0m client \u001B[38;5;241m=\u001B[39m AmazonPersonalize(\n\u001B[0;32m      6\u001B[0m     credentials_profile_name\u001B[38;5;241m=\u001B[39m\u001B[38;5;124m\"\u001B[39m\u001B[38;5;124mdefault\u001B[39m\u001B[38;5;124m\"\u001B[39m,\n\u001B[0;32m      7\u001B[0m     region_name\u001B[38;5;241m=\u001B[39m\u001B[38;5;124m\"\u001B[39m\u001B[38;5;124mus-west-2\u001B[39m\u001B[38;5;124m\"\u001B[39m,\n\u001B[0;32m      8\u001B[0m     recommender_arn\u001B[38;5;241m=\u001B[39mrecommender_arn,\n\u001B[0;32m      9\u001B[0m )\n",
      "\u001B[1;31mModuleNotFoundError\u001B[0m: No module named 'langchain_experimental'"
     ]
    }
   ],
   "execution_count": 3
  },
  {
   "cell_type": "markdown",
   "metadata": {
    "collapsed": false,
    "jupyter": {
     "outputs_hidden": false
    }
   },
   "source": [
    "### 2.2 [Use-case-2] Invoke Personalize Chain for summarizing results"
   ]
  },
  {
   "cell_type": "code",
   "execution_count": null,
   "metadata": {
    "collapsed": false,
    "jupyter": {
     "outputs_hidden": false
    }
   },
   "outputs": [],
   "source": [
    "from langchain.llms.bedrock import Bedrock\n",
    "from langchain_experimental.recommenders import AmazonPersonalizeChain\n",
    "\n",
    "bedrock_llm = Bedrock(model_id=\"anthropic.claude-v2\", region_name=\"us-west-2\")\n",
    "\n",
    "# Create personalize chain\n",
    "# Use return_direct=True if you do not want summary\n",
    "chain = AmazonPersonalizeChain.from_llm(\n",
    "    llm=bedrock_llm, client=client, return_direct=False\n",
    ")\n",
    "response = chain({\"user_id\": \"1\"})\n",
    "print(response)"
   ]
  },
  {
   "cell_type": "markdown",
   "metadata": {},
   "source": [
    "### 2.3 [Use-Case-3] Invoke Amazon Personalize Chain using your own prompt"
   ]
  },
  {
   "cell_type": "code",
   "execution_count": null,
   "metadata": {},
   "outputs": [],
   "source": [
    "from langchain.prompts.prompt import PromptTemplate\n",
    "\n",
    "RANDOM_PROMPT_QUERY = \"\"\"\n",
    "You are a skilled publicist. Write a high-converting marketing email advertising several movies available in a video-on-demand streaming platform next week, \n",
    "    given the movie and user information below. Your email will leverage the power of storytelling and persuasive language. \n",
    "    The movies to recommend and their information is contained in the <movie> tag. \n",
    "    All movies in the <movie> tag must be recommended. Give a summary of the movies and why the human should watch them. \n",
    "    Put the email between <email> tags.\n",
    "\n",
    "    <movie>\n",
    "    {result} \n",
    "    </movie>\n",
    "\n",
    "    Assistant:\n",
    "    \"\"\"\n",
    "\n",
    "RANDOM_PROMPT = PromptTemplate(input_variables=[\"result\"], template=RANDOM_PROMPT_QUERY)\n",
    "\n",
    "chain = AmazonPersonalizeChain.from_llm(\n",
    "    llm=bedrock_llm, client=client, return_direct=False, prompt_template=RANDOM_PROMPT\n",
    ")\n",
    "chain.run({\"user_id\": \"1\", \"item_id\": \"234\"})"
   ]
  },
  {
   "cell_type": "markdown",
   "metadata": {},
   "source": [
    "### 2.4 [Use-case-4] Invoke Amazon Personalize in a Sequential Chain "
   ]
  },
  {
   "cell_type": "code",
   "execution_count": null,
   "metadata": {},
   "outputs": [],
   "source": [
    "from langchain.chains import LLMChain, SequentialChain\n",
    "\n",
    "RANDOM_PROMPT_QUERY_2 = \"\"\"\n",
    "You are a skilled publicist. Write a high-converting marketing email advertising several movies available in a video-on-demand streaming platform next week, \n",
    "    given the movie and user information below. Your email will leverage the power of storytelling and persuasive language. \n",
    "    You want the email to impress the user, so make it appealing to them.\n",
    "    The movies to recommend and their information is contained in the <movie> tag. \n",
    "    All movies in the <movie> tag must be recommended. Give a summary of the movies and why the human should watch them. \n",
    "    Put the email between <email> tags.\n",
    "\n",
    "    <movie>\n",
    "    {result}\n",
    "    </movie>\n",
    "\n",
    "    Assistant:\n",
    "    \"\"\"\n",
    "\n",
    "RANDOM_PROMPT_2 = PromptTemplate(\n",
    "    input_variables=[\"result\"], template=RANDOM_PROMPT_QUERY_2\n",
    ")\n",
    "personalize_chain_instance = AmazonPersonalizeChain.from_llm(\n",
    "    llm=bedrock_llm, client=client, return_direct=True\n",
    ")\n",
    "random_chain_instance = LLMChain(llm=bedrock_llm, prompt=RANDOM_PROMPT_2)\n",
    "overall_chain = SequentialChain(\n",
    "    chains=[personalize_chain_instance, random_chain_instance],\n",
    "    input_variables=[\"user_id\"],\n",
    "    verbose=True,\n",
    ")\n",
    "overall_chain.run({\"user_id\": \"1\", \"item_id\": \"234\"})"
   ]
  },
  {
   "cell_type": "markdown",
   "metadata": {
    "collapsed": false,
    "jupyter": {
     "outputs_hidden": false
    }
   },
   "source": [
    "### 2.5 [Use-case-5] Invoke Amazon Personalize and retrieve metadata "
   ]
  },
  {
   "cell_type": "code",
   "execution_count": null,
   "metadata": {
    "collapsed": false,
    "jupyter": {
     "outputs_hidden": false
    }
   },
   "outputs": [],
   "source": [
    "recommender_arn = \"<insert_arn>\"\n",
    "metadata_column_names = [\n",
    "    \"<insert metadataColumnName-1>\",\n",
    "    \"<insert metadataColumnName-2>\",\n",
    "]\n",
    "metadataMap = {\"ITEMS\": metadata_column_names}\n",
    "\n",
    "client = AmazonPersonalize(\n",
    "    credentials_profile_name=\"default\",\n",
    "    region_name=\"us-west-2\",\n",
    "    recommender_arn=recommender_arn,\n",
    ")\n",
    "client.get_recommendations(user_id=\"1\", metadataColumns=metadataMap)"
   ]
  },
  {
   "cell_type": "markdown",
   "metadata": {
    "collapsed": false,
    "jupyter": {
     "outputs_hidden": false
    }
   },
   "source": [
    "### 2.6 [Use-Case 6] Invoke Personalize Chain with returned metadata for summarizing results"
   ]
  },
  {
   "cell_type": "code",
   "execution_count": null,
   "metadata": {
    "collapsed": false,
    "jupyter": {
     "outputs_hidden": false
    }
   },
   "outputs": [],
   "source": [
    "bedrock_llm = Bedrock(model_id=\"anthropic.claude-v2\", region_name=\"us-west-2\")\n",
    "\n",
    "# Create personalize chain\n",
    "# Use return_direct=True if you do not want summary\n",
    "chain = AmazonPersonalizeChain.from_llm(\n",
    "    llm=bedrock_llm, client=client, return_direct=False\n",
    ")\n",
    "response = chain({\"user_id\": \"1\", \"metadata_columns\": metadataMap})\n",
    "print(response)"
   ]
  }
 ],
 "metadata": {
  "kernelspec": {
   "display_name": "Python 3 (ipykernel)",
   "language": "python",
   "name": "python3"
  },
  "language_info": {
   "codemirror_mode": {
    "name": "ipython",
    "version": 3
   },
   "file_extension": ".py",
   "mimetype": "text/x-python",
   "name": "python",
   "nbconvert_exporter": "python",
   "pygments_lexer": "ipython3",
   "version": "3.11.7"
  },
  "vscode": {
   "interpreter": {
    "hash": "15e58ce194949b77a891bd4339ce3d86a9bd138e905926019517993f97db9e6c"
   }
  }
 },
 "nbformat": 4,
 "nbformat_minor": 4
}
