{
 "cells": [
  {
   "cell_type": "code",
   "id": "initial_id",
   "metadata": {
    "ExecuteTime": {
     "end_time": "2024-10-18T00:00:47.573943Z",
     "start_time": "2024-10-18T00:00:46.902531Z"
    }
   },
   "source": [
    "import os\n",
    "\n",
    "from libs.community.langchain_community.tools.azure_ai_services.translate_tool import AzureTranslateTool\n",
    "from langchain_core.prompts import PromptTemplate\n"
   ],
   "outputs": [],
   "execution_count": 1
  },
  {
   "cell_type": "code",
   "id": "f4e483ba5899b4fc",
   "metadata": {
    "ExecuteTime": {
     "end_time": "2024-10-18T00:00:47.589986Z",
     "start_time": "2024-10-18T00:00:47.574948Z"
    }
   },
   "source": [
    "translate_key = os.getenv('AZURE_TRANSLATE_API_KEY')\n",
    "translate_endpoint = os.getenv('AZURE_TRANSLATE_ENDPOINT')\n"
   ],
   "outputs": [],
   "execution_count": 2
  },
  {
   "metadata": {
    "ExecuteTime": {
     "end_time": "2024-10-18T00:00:47.606029Z",
     "start_time": "2024-10-18T00:00:47.590986Z"
    }
   },
   "cell_type": "code",
   "source": "translator = AzureTranslateTool(translate_key=translate_key, translate_endpoint=translate_endpoint)\n",
   "id": "f70f9002f0ef6914",
   "outputs": [],
   "execution_count": 3
  },
  {
   "cell_type": "code",
   "id": "1bbe14d2cf4270",
   "metadata": {
    "ExecuteTime": {
     "end_time": "2024-10-18T00:00:47.622029Z",
     "start_time": "2024-10-18T00:00:47.607029Z"
    }
   },
   "source": [
    "prompt = PromptTemplate(\n",
    "    input_variables=['input'],\n",
    "    template=\"You are a translation agent. Use the translation tool to translate the following input: {input}\"\n",
    ")"
   ],
   "outputs": [],
   "execution_count": 4
  },
  {
   "metadata": {
    "ExecuteTime": {
     "end_time": "2024-10-18T00:00:47.637322Z",
     "start_time": "2024-10-18T00:00:47.624314Z"
    }
   },
   "cell_type": "code",
   "source": [
    "def translate_text(input_text, target_language='es'):\n",
    "    try:\n",
    "        # Run the translation\n",
    "        translated_text = translator._run(input_text, target_language)\n",
    "\n",
    "        # Format the result in a dictionary\n",
    "        result = {\n",
    "            'input': input_text,\n",
    "            'output': translated_text\n",
    "        }\n",
    "        return result\n",
    "\n",
    "    except Exception as e:\n",
    "        # Log the error and return an error dictionary\n",
    "        print(f\"Translation error: {e}\")\n",
    "        return {'error': str(e)}\n",
    "\n"
   ],
   "id": "86b2cb9901bb7396",
   "outputs": [],
   "execution_count": 5
  },
  {
   "metadata": {
    "ExecuteTime": {
     "end_time": "2024-10-18T00:00:48.808244Z",
     "start_time": "2024-10-18T00:00:47.638323Z"
    }
   },
   "cell_type": "code",
   "source": [
    "# Instantiate the AzureTranslateTool\n",
    "translator = AzureTranslateTool()\n",
    "\n",
    "# Sample text to translate\n",
    "sample_text = \"hi how are you?\"\n",
    "target_language = 'fr'\n",
    "\n",
    "# Perform translation using the _translate_text method directly\n",
    "translated_text = translator._translate_text(sample_text, to_language=target_language)\n",
    "\n",
    "print(f\"Translated text: {translated_text}\")\n"
   ],
   "id": "7363aa6423f0b03a",
   "outputs": [
    {
     "name": "stderr",
     "output_type": "stream",
     "text": [
      "Translation failed: (401001) The request is not authorized because credentials are missing or invalid.\n",
      "Code: 401001\n",
      "Message: The request is not authorized because credentials are missing or invalid.\n"
     ]
    },
    {
     "ename": "RuntimeError",
     "evalue": "Translation failed: (401001) The request is not authorized because credentials are missing or invalid.\nCode: 401001\nMessage: The request is not authorized because credentials are missing or invalid.",
     "output_type": "error",
     "traceback": [
      "\u001B[1;31m---------------------------------------------------------------------------\u001B[0m",
      "\u001B[1;31mClientAuthenticationError\u001B[0m                 Traceback (most recent call last)",
      "File \u001B[1;32mF:\\pycharm\\langchain\\libs\\community\\langchain_community\\tools\\azure_ai_services\\translate_tool.py:87\u001B[0m, in \u001B[0;36mAzureTranslateTool._translate_text\u001B[1;34m(self, text, to_language)\u001B[0m\n\u001B[0;32m     86\u001B[0m \u001B[38;5;28;01mtry\u001B[39;00m:\n\u001B[1;32m---> 87\u001B[0m     response \u001B[38;5;241m=\u001B[39m \u001B[38;5;28;43mself\u001B[39;49m\u001B[38;5;241;43m.\u001B[39;49m\u001B[43mtranslate_client\u001B[49m\u001B[38;5;241;43m.\u001B[39;49m\u001B[43mtranslate\u001B[49m\u001B[43m(\u001B[49m\n\u001B[0;32m     88\u001B[0m \u001B[43m        \u001B[49m\u001B[43mbody\u001B[49m\u001B[38;5;241;43m=\u001B[39;49m\u001B[43mbody\u001B[49m\u001B[43m,\u001B[49m\u001B[43m \u001B[49m\u001B[43mto_language\u001B[49m\u001B[38;5;241;43m=\u001B[39;49m\u001B[43m[\u001B[49m\u001B[43mto_language\u001B[49m\u001B[43m]\u001B[49m\n\u001B[0;32m     89\u001B[0m \u001B[43m    \u001B[49m\u001B[43m)\u001B[49m\n\u001B[0;32m     90\u001B[0m     \u001B[38;5;28;01mreturn\u001B[39;00m response[\u001B[38;5;241m0\u001B[39m]\u001B[38;5;241m.\u001B[39mtranslations[\u001B[38;5;241m0\u001B[39m]\u001B[38;5;241m.\u001B[39mtext\n",
      "File \u001B[1;32mF:\\pycharm\\langchain\\.venv\\lib\\site-packages\\azure\\ai\\translation\\text\\_operations\\_patch.py:564\u001B[0m, in \u001B[0;36mTextTranslationClientOperationsMixin.translate\u001B[1;34m(self, body, to_language, client_trace_id, from_language, text_type, category, profanity_action, profanity_marker, include_alignment, include_sentence_length, suggested_from, from_script, to_script, allow_fallback, **kwargs)\u001B[0m\n\u001B[0;32m    562\u001B[0m     request_body \u001B[38;5;241m=\u001B[39m cast(Union[List[_models\u001B[38;5;241m.\u001B[39mInputTextItem], IO[\u001B[38;5;28mbytes\u001B[39m]], body)\n\u001B[1;32m--> 564\u001B[0m \u001B[38;5;28;01mreturn\u001B[39;00m \u001B[38;5;28;43msuper\u001B[39;49m\u001B[43m(\u001B[49m\u001B[43m)\u001B[49m\u001B[38;5;241;43m.\u001B[39;49m\u001B[43mtranslate\u001B[49m\u001B[43m(\u001B[49m\n\u001B[0;32m    565\u001B[0m \u001B[43m    \u001B[49m\u001B[43mbody\u001B[49m\u001B[38;5;241;43m=\u001B[39;49m\u001B[43mrequest_body\u001B[49m\u001B[43m,\u001B[49m\n\u001B[0;32m    566\u001B[0m \u001B[43m    \u001B[49m\u001B[43mto_language\u001B[49m\u001B[38;5;241;43m=\u001B[39;49m\u001B[43mto_language\u001B[49m\u001B[43m,\u001B[49m\n\u001B[0;32m    567\u001B[0m \u001B[43m    \u001B[49m\u001B[43mclient_trace_id\u001B[49m\u001B[38;5;241;43m=\u001B[39;49m\u001B[43mclient_trace_id\u001B[49m\u001B[43m,\u001B[49m\n\u001B[0;32m    568\u001B[0m \u001B[43m    \u001B[49m\u001B[43mfrom_language\u001B[49m\u001B[38;5;241;43m=\u001B[39;49m\u001B[43mfrom_language\u001B[49m\u001B[43m,\u001B[49m\n\u001B[0;32m    569\u001B[0m \u001B[43m    \u001B[49m\u001B[43mtext_type\u001B[49m\u001B[38;5;241;43m=\u001B[39;49m\u001B[43mtext_type\u001B[49m\u001B[43m,\u001B[49m\n\u001B[0;32m    570\u001B[0m \u001B[43m    \u001B[49m\u001B[43mcategory\u001B[49m\u001B[38;5;241;43m=\u001B[39;49m\u001B[43mcategory\u001B[49m\u001B[43m,\u001B[49m\n\u001B[0;32m    571\u001B[0m \u001B[43m    \u001B[49m\u001B[43mprofanity_action\u001B[49m\u001B[38;5;241;43m=\u001B[39;49m\u001B[43mprofanity_action\u001B[49m\u001B[43m,\u001B[49m\n\u001B[0;32m    572\u001B[0m \u001B[43m    \u001B[49m\u001B[43mprofanity_marker\u001B[49m\u001B[38;5;241;43m=\u001B[39;49m\u001B[43mprofanity_marker\u001B[49m\u001B[43m,\u001B[49m\n\u001B[0;32m    573\u001B[0m \u001B[43m    \u001B[49m\u001B[43minclude_alignment\u001B[49m\u001B[38;5;241;43m=\u001B[39;49m\u001B[43minclude_alignment\u001B[49m\u001B[43m,\u001B[49m\n\u001B[0;32m    574\u001B[0m \u001B[43m    \u001B[49m\u001B[43minclude_sentence_length\u001B[49m\u001B[38;5;241;43m=\u001B[39;49m\u001B[43minclude_sentence_length\u001B[49m\u001B[43m,\u001B[49m\n\u001B[0;32m    575\u001B[0m \u001B[43m    \u001B[49m\u001B[43msuggested_from\u001B[49m\u001B[38;5;241;43m=\u001B[39;49m\u001B[43msuggested_from\u001B[49m\u001B[43m,\u001B[49m\n\u001B[0;32m    576\u001B[0m \u001B[43m    \u001B[49m\u001B[43mfrom_script\u001B[49m\u001B[38;5;241;43m=\u001B[39;49m\u001B[43mfrom_script\u001B[49m\u001B[43m,\u001B[49m\n\u001B[0;32m    577\u001B[0m \u001B[43m    \u001B[49m\u001B[43mto_script\u001B[49m\u001B[38;5;241;43m=\u001B[39;49m\u001B[43mto_script\u001B[49m\u001B[43m,\u001B[49m\n\u001B[0;32m    578\u001B[0m \u001B[43m    \u001B[49m\u001B[43mallow_fallback\u001B[49m\u001B[38;5;241;43m=\u001B[39;49m\u001B[43mallow_fallback\u001B[49m\u001B[43m,\u001B[49m\n\u001B[0;32m    579\u001B[0m \u001B[43m    \u001B[49m\u001B[38;5;241;43m*\u001B[39;49m\u001B[38;5;241;43m*\u001B[39;49m\u001B[43mkwargs\u001B[49m\n\u001B[0;32m    580\u001B[0m \u001B[43m\u001B[49m\u001B[43m)\u001B[49m\n",
      "File \u001B[1;32mF:\\pycharm\\langchain\\.venv\\lib\\site-packages\\azure\\core\\tracing\\decorator.py:94\u001B[0m, in \u001B[0;36mdistributed_trace.<locals>.decorator.<locals>.wrapper_use_tracer\u001B[1;34m(*args, **kwargs)\u001B[0m\n\u001B[0;32m     93\u001B[0m \u001B[38;5;28;01mif\u001B[39;00m span_impl_type \u001B[38;5;129;01mis\u001B[39;00m \u001B[38;5;28;01mNone\u001B[39;00m:\n\u001B[1;32m---> 94\u001B[0m     \u001B[38;5;28;01mreturn\u001B[39;00m \u001B[43mfunc\u001B[49m\u001B[43m(\u001B[49m\u001B[38;5;241;43m*\u001B[39;49m\u001B[43margs\u001B[49m\u001B[43m,\u001B[49m\u001B[43m \u001B[49m\u001B[38;5;241;43m*\u001B[39;49m\u001B[38;5;241;43m*\u001B[39;49m\u001B[43mkwargs\u001B[49m\u001B[43m)\u001B[49m\n\u001B[0;32m     96\u001B[0m \u001B[38;5;66;03m# Merge span is parameter is set, but only if no explicit parent are passed\u001B[39;00m\n",
      "File \u001B[1;32mF:\\pycharm\\langchain\\.venv\\lib\\site-packages\\azure\\ai\\translation\\text\\_operations\\_operations.py:1024\u001B[0m, in \u001B[0;36mTextTranslationClientOperationsMixin.translate\u001B[1;34m(self, body, to_language, client_trace_id, from_language, text_type, category, profanity_action, profanity_marker, include_alignment, include_sentence_length, suggested_from, from_script, to_script, allow_fallback, **kwargs)\u001B[0m\n\u001B[0;32m   1023\u001B[0m     response\u001B[38;5;241m.\u001B[39mread()  \u001B[38;5;66;03m# Load the body in memory and close the socket\u001B[39;00m\n\u001B[1;32m-> 1024\u001B[0m \u001B[43mmap_error\u001B[49m\u001B[43m(\u001B[49m\u001B[43mstatus_code\u001B[49m\u001B[38;5;241;43m=\u001B[39;49m\u001B[43mresponse\u001B[49m\u001B[38;5;241;43m.\u001B[39;49m\u001B[43mstatus_code\u001B[49m\u001B[43m,\u001B[49m\u001B[43m \u001B[49m\u001B[43mresponse\u001B[49m\u001B[38;5;241;43m=\u001B[39;49m\u001B[43mresponse\u001B[49m\u001B[43m,\u001B[49m\u001B[43m \u001B[49m\u001B[43merror_map\u001B[49m\u001B[38;5;241;43m=\u001B[39;49m\u001B[43merror_map\u001B[49m\u001B[43m)\u001B[49m\n\u001B[0;32m   1025\u001B[0m error \u001B[38;5;241m=\u001B[39m _deserialize(_models\u001B[38;5;241m.\u001B[39mErrorResponse, response\u001B[38;5;241m.\u001B[39mjson())\n",
      "File \u001B[1;32mF:\\pycharm\\langchain\\.venv\\lib\\site-packages\\azure\\core\\exceptions.py:161\u001B[0m, in \u001B[0;36mmap_error\u001B[1;34m(status_code, response, error_map)\u001B[0m\n\u001B[0;32m    160\u001B[0m error \u001B[38;5;241m=\u001B[39m error_type(response\u001B[38;5;241m=\u001B[39mresponse)\n\u001B[1;32m--> 161\u001B[0m \u001B[38;5;28;01mraise\u001B[39;00m error\n",
      "\u001B[1;31mClientAuthenticationError\u001B[0m: (401001) The request is not authorized because credentials are missing or invalid.\nCode: 401001\nMessage: The request is not authorized because credentials are missing or invalid.",
      "\nDuring handling of the above exception, another exception occurred:\n",
      "\u001B[1;31mRuntimeError\u001B[0m                              Traceback (most recent call last)",
      "Cell \u001B[1;32mIn[6], line 9\u001B[0m\n\u001B[0;32m      6\u001B[0m target_language \u001B[38;5;241m=\u001B[39m \u001B[38;5;124m'\u001B[39m\u001B[38;5;124mfr\u001B[39m\u001B[38;5;124m'\u001B[39m\n\u001B[0;32m      8\u001B[0m \u001B[38;5;66;03m# Perform translation using the _translate_text method directly\u001B[39;00m\n\u001B[1;32m----> 9\u001B[0m translated_text \u001B[38;5;241m=\u001B[39m \u001B[43mtranslator\u001B[49m\u001B[38;5;241;43m.\u001B[39;49m\u001B[43m_translate_text\u001B[49m\u001B[43m(\u001B[49m\u001B[43msample_text\u001B[49m\u001B[43m,\u001B[49m\u001B[43m \u001B[49m\u001B[43mto_language\u001B[49m\u001B[38;5;241;43m=\u001B[39;49m\u001B[43mtarget_language\u001B[49m\u001B[43m)\u001B[49m\n\u001B[0;32m     11\u001B[0m \u001B[38;5;28mprint\u001B[39m(\u001B[38;5;124mf\u001B[39m\u001B[38;5;124m\"\u001B[39m\u001B[38;5;124mTranslated text: \u001B[39m\u001B[38;5;132;01m{\u001B[39;00mtranslated_text\u001B[38;5;132;01m}\u001B[39;00m\u001B[38;5;124m\"\u001B[39m)\n",
      "File \u001B[1;32mF:\\pycharm\\langchain\\libs\\community\\langchain_community\\tools\\azure_ai_services\\translate_tool.py:93\u001B[0m, in \u001B[0;36mAzureTranslateTool._translate_text\u001B[1;34m(self, text, to_language)\u001B[0m\n\u001B[0;32m     91\u001B[0m \u001B[38;5;28;01mexcept\u001B[39;00m \u001B[38;5;167;01mException\u001B[39;00m \u001B[38;5;28;01mas\u001B[39;00m e:\n\u001B[0;32m     92\u001B[0m     logger\u001B[38;5;241m.\u001B[39merror(\u001B[38;5;124m\"\u001B[39m\u001B[38;5;124mTranslation failed: \u001B[39m\u001B[38;5;132;01m%s\u001B[39;00m\u001B[38;5;124m\"\u001B[39m, e)\n\u001B[1;32m---> 93\u001B[0m     \u001B[38;5;28;01mraise\u001B[39;00m \u001B[38;5;167;01mRuntimeError\u001B[39;00m(\u001B[38;5;124mf\u001B[39m\u001B[38;5;124m\"\u001B[39m\u001B[38;5;124mTranslation failed: \u001B[39m\u001B[38;5;132;01m{\u001B[39;00me\u001B[38;5;132;01m}\u001B[39;00m\u001B[38;5;124m\"\u001B[39m)\n",
      "\u001B[1;31mRuntimeError\u001B[0m: Translation failed: (401001) The request is not authorized because credentials are missing or invalid.\nCode: 401001\nMessage: The request is not authorized because credentials are missing or invalid."
     ]
    }
   ],
   "execution_count": 6
  },
  {
   "metadata": {},
   "cell_type": "code",
   "source": "",
   "id": "3606f69c6a020866",
   "outputs": [],
   "execution_count": null
  }
 ],
 "metadata": {
  "kernelspec": {
   "display_name": "Python 3 (ipykernel)",
   "language": "python",
   "name": "python3"
  },
  "language_info": {
   "codemirror_mode": {
    "name": "ipython",
    "version": 3
   },
   "file_extension": ".py",
   "mimetype": "text/x-python",
   "name": "python",
   "nbconvert_exporter": "python",
   "pygments_lexer": "ipython3",
   "version": "3.8.1"
  }
 },
 "nbformat": 4,
 "nbformat_minor": 5
}
