{
 "cells": [
  {
   "cell_type": "code",
   "execution_count": 2,
   "metadata": {},
   "outputs": [],
   "source": [
    "#%pip install azure-ai-translation-text"
   ]
  },
  {
   "cell_type": "code",
   "execution_count": 19,
   "metadata": {},
   "outputs": [],
   "source": [
    "from azure.ai.translation.text import TextTranslationClient\n",
    "from azure.core.credentials import AzureKeyCredential\n",
    "import os\n",
    "from azure.core.exceptions import HttpResponseError"
   ]
  },
  {
   "cell_type": "code",
   "execution_count": 11,
   "metadata": {},
   "outputs": [],
   "source": [
    "region = os.environ['REGION']\n",
    "translation_key = os.environ['TRANSLATION_API_KEY']\n",
    "azure_key = os.environ['AZURE_OPENAI_API_KEY']\n",
    "text_endpoint = os.environ['TEXT_TRANSLATION_ENDPOINT']\n",
    "doc_endpoint = os.environ['DOC_TRANSLATION_ENDPOINT']"
   ]
  },
  {
   "cell_type": "code",
   "execution_count": 22,
   "metadata": {},
   "outputs": [],
   "source": [
    "credential = AzureKeyCredential(translation_key)\n",
    "text_translator = TextTranslationClient(credential=credential, region=region, endpoint=text_endpoint)"
   ]
  },
  {
   "cell_type": "code",
   "execution_count": 8,
   "metadata": {},
   "outputs": [
    {
     "name": "stdout",
     "output_type": "stream",
     "text": [
      "Translation Languages:\n",
      "mai -- name: Maithili (Maithili)\n",
      "mg -- name: Malagasy (Malagasy)\n",
      "mi -- name: Māori (Te Reo Māori)\n",
      "mk -- name: Macedonian (Македонски)\n",
      "ml -- name: Malayalam (മലയാളം)\n",
      "mn-Cyrl -- name: Mongolian (Cyrillic) (Mongolian (Cyrillic))\n",
      "mn-Mong -- name: Mongolian (Traditional) (ᠮᠣᠩᠭᠣᠯ ᠬᠡᠯᠡ)\n",
      "mni -- name: Manipuri (ꯃꯩꯇꯩꯂꯣꯟ)\n",
      "mr -- name: Marathi (मराठी)\n",
      "ms -- name: Malay (Melayu)\n",
      "mt -- name: Maltese (Malti)\n",
      "my -- name: Myanmar (Burmese) (မြန်မာ)\n"
     ]
    }
   ],
   "source": [
    "try:\n",
    "    response = text_translator.get_supported_languages()\n",
    "\n",
    "    # print(\n",
    "    #     f\"Number of supported languages for translate operation: {len(response.translation) if response.translation is not None else 0}\"\n",
    "    # )\n",
    "    # print(\n",
    "    #     f\"Number of supported languages for transliterate operation: {len(response.transliteration) if response.transliteration is not None else 0}\"\n",
    "    # )\n",
    "    # print(\n",
    "    #     f\"Number of supported languages for dictionary operations: {len(response.dictionary) if response.dictionary is not None else 0}\"\n",
    "    # )\n",
    "\n",
    "    if response.translation is not None:\n",
    "        print(\"Translation Languages:\")\n",
    "        for key, value in response.translation.items():\n",
    "            if (value.name.startswith('M')):\n",
    "                print(f\"{key} -- name: {value.name} ({value.native_name})\")\n",
    "\n",
    "    # if response.transliteration is not None:\n",
    "    #     print(\"Transliteration Languages:\")\n",
    "    #     for key, value in response.transliteration.items():\n",
    "    #         print(f\"{key} -- name: {value.name}, supported script count: {len(value.scripts)}\")\n",
    "\n",
    "    # if response.dictionary is not None:\n",
    "    #     print(\"Dictionary Languages:\")\n",
    "    #     for key, value in response.dictionary.items():\n",
    "    #         print(f\"{key} -- name: {value.name}, supported target languages count: {len(value.translations)}\")\n",
    "\n",
    "except HttpResponseError as exception:\n",
    "    if exception.error is not None:\n",
    "        print(f\"Error Code: {exception.error.code}\")\n",
    "        print(f\"Message: {exception.error.message}\")\n",
    "    raise"
   ]
  },
  {
   "cell_type": "code",
   "execution_count": 24,
   "metadata": {},
   "outputs": [
    {
     "name": "stdout",
     "output_type": "stream",
     "text": [
      "Detected languages of the input text: en with score: 1.0.\n",
      "Text was translated to: 'mi' and the result is: 'Te whenua o te kapua mā roa'.\n"
     ]
    }
   ],
   "source": [
    "try:\n",
    "    to_language = [\"mi\"]\n",
    "    input_text_elements = [\"The land of the long white cloud\"]\n",
    "\n",
    "    response = text_translator.translate(body=input_text_elements, to_language=to_language)\n",
    "    translation = response[0] if response else None\n",
    "\n",
    "    if translation:\n",
    "        detected_language = translation.detected_language\n",
    "        if detected_language:\n",
    "            print(\n",
    "                f\"Detected languages of the input text: {detected_language.language} with score: {detected_language.score}.\"\n",
    "            )\n",
    "        for translated_text in translation.translations:\n",
    "            print(f\"Text was translated to: '{translated_text.to}' and the result is: '{translated_text.text}'.\")\n",
    "\n",
    "except HttpResponseError as exception:\n",
    "    if exception.error is not None:\n",
    "        print(f\"Error Code: {exception.error.code}\")\n",
    "        print(f\"Message: {exception.error.message}\")"
   ]
  },
  {
   "cell_type": "code",
   "execution_count": null,
   "metadata": {},
   "outputs": [],
   "source": []
  }
 ],
 "metadata": {
  "kernelspec": {
   "display_name": "Python 3",
   "language": "python",
   "name": "python3"
  },
  "language_info": {
   "codemirror_mode": {
    "name": "ipython",
    "version": 3
   },
   "file_extension": ".py",
   "mimetype": "text/x-python",
   "name": "python",
   "nbconvert_exporter": "python",
   "pygments_lexer": "ipython3",
   "version": "3.12.5"
  }
 },
 "nbformat": 4,
 "nbformat_minor": 2
}
