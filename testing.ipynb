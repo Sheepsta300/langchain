{
 "cells": [
  {
   "cell_type": "code",
   "execution_count": null,
   "metadata": {},
   "outputs": [],
   "source": [
    "import httpx\n",
    "import os\n",
    "from dotenv import load_dotenv"
   ]
  },
  {
   "cell_type": "code",
   "execution_count": null,
   "metadata": {},
   "outputs": [],
   "source": [
    "load_dotenv()"
   ]
  },
  {
   "cell_type": "code",
   "execution_count": null,
   "metadata": {},
   "outputs": [],
   "source": [
    "key = os.environ['AZURE_OPENAI_API_KEY']\n",
    "endpoint = os.environ['AZURE_OPENAI_ENDPOINT']\n",
    "version = os.environ['OPENAI_API_VERSION']\n",
    "model = 'gpt-4o'"
   ]
  },
  {
   "cell_type": "code",
   "execution_count": null,
   "metadata": {},
   "outputs": [],
   "source": [
    "# Set up the variables\n",
    "url = f\"{endpoint}/openai/deployments/tts/audio/speech?api-version=2024-02-15-preview\"\n",
    "headers = {\n",
    "    \"api-key\": key,\n",
    "    \"Content-Type\": \"application/json\"\n",
    "}\n",
    "data = {\n",
    "    \"model\": \"tts-1-hd\",\n",
    "    \"input\": \"I'm excited to try text to speech.\",\n",
    "    \"voice\": \"alloy\"\n",
    "}\n",
    "\n",
    "# Make the POST request\n",
    "response = httpx.post(url, headers=headers, json=data)\n",
    "\n",
    "# Save the output to a file\n",
    "with open(\"speech.mp3\", \"wb\") as f:\n",
    "    f.write(response.content)"
   ]
  },
  {
   "cell_type": "code",
   "execution_count": 40,
   "metadata": {},
   "outputs": [],
   "source": [
    "from libs.community.langchain_community.tools.azure_openai.text2speech import AzureOpenAIText2SpeechTool\n",
    "from langchain_openai import AzureChatOpenAI"
   ]
  },
  {
   "cell_type": "code",
   "execution_count": 7,
   "metadata": {},
   "outputs": [],
   "source": [
    "model = AzureChatOpenAI(\n",
    "    openai_api_version=version,  \n",
    "    azure_deployment=model,\n",
    "    azure_endpoint=endpoint,\n",
    "    temperature=0.5,\n",
    "    max_tokens=200,\n",
    "    timeout=60,\n",
    "    max_retries=10,\n",
    "    # organization=\"...\",\n",
    "    # model=\"gpt-35-turbo\",\n",
    "    # model_version=\"0125\",\n",
    "    # other params...\n",
    "    )"
   ]
  },
  {
   "cell_type": "code",
   "execution_count": 41,
   "metadata": {},
   "outputs": [],
   "source": [
    "tts = AzureOpenAIText2SpeechTool(azure_openai_key=key, openai_endpoint=endpoint)"
   ]
  },
  {
   "cell_type": "code",
   "execution_count": 42,
   "metadata": {},
   "outputs": [
    {
     "data": {
      "text/plain": [
       "RunnableBinding(bound=AzureChatOpenAI(client=<openai.resources.chat.completions.Completions object at 0x0000025AA2859670>, async_client=<openai.resources.chat.completions.AsyncCompletions object at 0x0000025AA285AAE0>, temperature=0.5, openai_api_key=SecretStr('**********'), openai_proxy='', request_timeout=60.0, max_retries=10, max_tokens=200, azure_endpoint='https://nzcapstoneproject.openai.azure.com/', deployment_name='gpt-4o', openai_api_version='2024-06-01', openai_api_type='azure'), kwargs={'tools': [{'type': 'function', 'function': {'name': 'azure_openai_text2speech', 'description': 'A wrapper around Azure OpenAI Text2Speech. Useful for when you need to convert text to speech. ', 'parameters': {'type': 'object', 'properties': {'query': {'type': 'string'}}, 'required': ['query']}}}]})"
      ]
     },
     "execution_count": 42,
     "metadata": {},
     "output_type": "execute_result"
    }
   ],
   "source": [
    "model.bind_tools([tts])"
   ]
  },
  {
   "cell_type": "code",
   "execution_count": 43,
   "metadata": {},
   "outputs": [],
   "source": [
    "from langchain.agents import AgentType, AgentExecutor, create_structured_chat_agent\n",
    "from langchain import hub"
   ]
  },
  {
   "cell_type": "code",
   "execution_count": 44,
   "metadata": {},
   "outputs": [],
   "source": [
    "prompt = hub.pull(\"hwchase17/structured-chat-agent\")"
   ]
  },
  {
   "cell_type": "code",
   "execution_count": 45,
   "metadata": {},
   "outputs": [],
   "source": [
    "agent = create_structured_chat_agent(\n",
    "    tools=[tts],\n",
    "    llm=model,\n",
    "    prompt=prompt\n",
    ")"
   ]
  },
  {
   "cell_type": "code",
   "execution_count": 46,
   "metadata": {},
   "outputs": [],
   "source": [
    "agent_executor = AgentExecutor(\n",
    "    agent=agent, tools=[tts], verbose=True, handle_parsing_errors=True\n",
    ")"
   ]
  },
  {
   "cell_type": "code",
   "execution_count": 48,
   "metadata": {},
   "outputs": [
    {
     "name": "stdout",
     "output_type": "stream",
     "text": [
      "\n",
      "\n",
      "\u001b[1m> Entering new AgentExecutor chain...\u001b[0m\n",
      "\u001b[32;1m\u001b[1;3mThought: I will provide a brief history of Seattle and use the text-to-speech tool to read it out loud.\n",
      "\n",
      "Action:\n",
      "```\n",
      "{\n",
      "  \"action\": \"azure_openai_text2speech\",\n",
      "  \"action_input\": \"Seattle, located in the Pacific Northwest region of the United States, was originally inhabited by Native American tribes, particularly the Duwamish and Suquamish. The city was named after Chief Seattle, a leader of the Duwamish and Suquamish tribes. European settlers arrived in the mid-19th century, and the city was officially incorporated in 1869. Seattle's early economy was driven by logging, but it later became a hub for shipbuilding during World War I and II. The city experienced significant growth during the tech boom of the late 20th century, becoming home to major companies like Microsoft and Amazon. Today, Seattle is known for its vibrant cultural scene, coffee culture, and as a gateway to the natural beauty of the Pacific\u001b[0m\u001b[36;1m\u001b[1;3mC:\\Users\\spong\\AppData\\Local\\Temp\\tmpw70c21hf.mp3\u001b[0m\u001b[32;1m\u001b[1;3mAction:\n",
      "```\n",
      "{\n",
      "  \"action\": \"Final Answer\",\n",
      "  \"action_input\": \"Seattle, located in the Pacific Northwest region of the United States, was originally inhabited by Native American tribes, particularly the Duwamish and Suquamish. The city was named after Chief Seattle, a leader of the Duwamish and Suquamish tribes. European settlers arrived in the mid-19th century, and the city was officially incorporated in 1869. Seattle's early economy was driven by logging, but it later became a hub for shipbuilding during World War I and II. The city experienced significant growth during the tech boom of the late 20th century, becoming home to major companies like Microsoft and Amazon. Today, Seattle is known for its vibrant cultural scene, coffee culture, and as a gateway to the natural beauty of the Pacific Northwest.\"\n",
      "}\n",
      "```\u001b[0m\n",
      "\n",
      "\u001b[1m> Finished chain.\u001b[0m\n"
     ]
    },
    {
     "data": {
      "text/plain": [
       "{'input': 'Can you tell me a brief history about Seattle, USA and read it out loud for me.',\n",
       " 'output': \"Seattle, located in the Pacific Northwest region of the United States, was originally inhabited by Native American tribes, particularly the Duwamish and Suquamish. The city was named after Chief Seattle, a leader of the Duwamish and Suquamish tribes. European settlers arrived in the mid-19th century, and the city was officially incorporated in 1869. Seattle's early economy was driven by logging, but it later became a hub for shipbuilding during World War I and II. The city experienced significant growth during the tech boom of the late 20th century, becoming home to major companies like Microsoft and Amazon. Today, Seattle is known for its vibrant cultural scene, coffee culture, and as a gateway to the natural beauty of the Pacific Northwest.\"}"
      ]
     },
     "execution_count": 48,
     "metadata": {},
     "output_type": "execute_result"
    }
   ],
   "source": [
    "agent_executor.invoke(\n",
    "    {\n",
    "        \"input\": \"Can you tell me a joke and read it out load for me.\",\n",
    "    }\n",
    ")"
   ]
  }
 ],
 "metadata": {
  "kernelspec": {
   "display_name": "Python 3",
   "language": "python",
   "name": "python3"
  },
  "language_info": {
   "codemirror_mode": {
    "name": "ipython",
    "version": 3
   },
   "file_extension": ".py",
   "mimetype": "text/x-python",
   "name": "python",
   "nbconvert_exporter": "python",
   "pygments_lexer": "ipython3",
   "version": "3.12.5"
  }
 },
 "nbformat": 4,
 "nbformat_minor": 2
}
