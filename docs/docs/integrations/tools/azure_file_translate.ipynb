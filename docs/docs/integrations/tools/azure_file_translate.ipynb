{
 "cells": [
  {
   "cell_type": "markdown",
   "metadata": {},
   "source": [
    "<h1>Azure File Translation</h1>"
   ]
  },
  {
   "cell_type": "markdown",
   "metadata": {},
   "source": [
    "The AzureFileTranslateTool is a wrapper around the Azure Text Translation API that translates text from documents in various formats to a target language.\n",
    "\n",
    "This tool supports:\n",
    "\n",
    "PDF, DOCX, PPTX (Powerpoint), XLSX (Excel), XML, HTML, and TXT files."
   ]
  },
  {
   "cell_type": "markdown",
   "metadata": {},
   "source": [
    "<h2>Prerequisites</h2>\n",
    "\n",
    "An Azure text translation resource is required for this tool, so make sure that you have a valid Key and Endpoint/\n",
    "\n",
    "<h3>Install the required dependencies</h3>"
   ]
  },
  {
   "cell_type": "code",
   "execution_count": null,
   "metadata": {},
   "outputs": [],
   "source": [
    "%pip install langchain langchain-community unstructured azure-ai-translation-text "
   ]
  },
  {
   "cell_type": "markdown",
   "metadata": {},
   "source": [
    "<h3>Running the tool</h3>\n",
    "\n",
    "First we set up the environment with using your Azure resource.\n",
    "\n",
    "All examples will use the sentence \"Hello, my name is Dale\""
   ]
  },
  {
   "cell_type": "code",
   "execution_count": 3,
   "metadata": {},
   "outputs": [],
   "source": [
    "import os\n",
    "from langchain_community.tools.azure_ai_services.azure_file_translation import (\n",
    "    AzureFileTranslateTool,\n",
    ")\n",
    "\n",
    "\n",
    "# Set your Azure API credentials (Replace with actual values or set via environment)\n",
    "os.environ[\"AZURE_TRANSLATE_API_KEY\"]\n",
    "os.environ[\"AZURE_TRANSLATE_ENDPOINT\"]\n",
    "os.environ[\"AZURE_REGION\"]\n",
    "\n",
    "validated_values = AzureFileTranslateTool.validate_environment({})"
   ]
  },
  {
   "cell_type": "code",
   "execution_count": 4,
   "metadata": {},
   "outputs": [],
   "source": [
    "# Initialize the tool\n",
    "tool = AzureFileTranslateTool(**validated_values)"
   ]
  },
  {
   "cell_type": "markdown",
   "metadata": {},
   "source": [
    "<h3>Example 1 - Simple text transaltion</h3>"
   ]
  },
  {
   "cell_type": "code",
   "execution_count": null,
   "metadata": {},
   "outputs": [],
   "source": [
    "# Input text to translate\n",
    "input_text = \"Hello, world!\"\n",
    "\n",
    "# Translate to French\n",
    "translated_text = tool._translate_text(input_text, target_language=\"fr\")\n",
    "\n",
    "print(f\"Original: {input_text}\")\n",
    "print(f\"Translated: {translated_text}\")"
   ]
  },
  {
   "cell_type": "markdown",
   "metadata": {},
   "source": [
    "<h3>Example 2 - Text file transaltion</h3>"
   ]
  },
  {
   "cell_type": "code",
   "execution_count": null,
   "metadata": {},
   "outputs": [],
   "source": [
    "# Create a sample text file\n",
    "with open(\"test_Azure.txt\", \"w\", encoding=\"utf-8\") as f:\n",
    "    f.write(\"Hello my name is Azure\")\n",
    "\n",
    "# Read and translate content from the file\n",
    "text_content = tool._read_text(\"example.txt\")\n",
    "translated_content = tool._translate_text(text_content, target_language=\"es\")\n",
    "\n",
    "print(\"Translated Content:\")\n",
    "print(translated_content)\n",
    "\n",
    "# Clean up the sample file\n",
    "os.remove(\"example.txt\")"
   ]
  },
  {
   "cell_type": "markdown",
   "metadata": {},
   "source": [
    "<h3>Example 3 - PDF file transaltion</h3>"
   ]
  },
  {
   "cell_type": "code",
   "execution_count": null,
   "metadata": {},
   "outputs": [],
   "source": [
    "# Path to your PDF document\n",
    "pdf_path = \"test_azure.pdf\"\n",
    "\n",
    "# Extract text from the PDF\n",
    "pdf_content = tool._read_text_from_file(pdf_path)\n",
    "\n",
    "# Translate the extracted text to German\n",
    "translated_pdf_content = tool._translate_text(pdf_content, target_language=\"es\")\n",
    "\n",
    "print(\"Translated PDF Content:\")\n",
    "print(translated_pdf_content)"
   ]
  }
 ],
 "metadata": {
  "kernelspec": {
   "display_name": "base",
   "language": "python",
   "name": "python3"
  },
  "language_info": {
   "codemirror_mode": {
    "name": "ipython",
    "version": 3
   },
   "file_extension": ".py",
   "mimetype": "text/x-python",
   "name": "python",
   "nbconvert_exporter": "python",
   "pygments_lexer": "ipython3",
   "version": "3.12.4"
  }
 },
 "nbformat": 4,
 "nbformat_minor": 2
}
