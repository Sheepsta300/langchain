{
 "cells": [
  {
   "cell_type": "markdown",
   "metadata": {},
   "source": [
    "# Azure Container Apps dynamic sessions\n",
    "\n",
    "Azure Container Apps dynamic sessions provides a secure and scalable way to run a Python code interpreter in Hyper-V isolated sandboxes. This allows your agents to run potentially untrusted code in a secure environment. The code interpreter environment includes many popular Python packages, such as NumPy, pandas, and scikit-learn. See the [Azure Container App docs](https://learn.microsoft.com/en-us/azure/container-apps/sessions-code-interpreter) for more info on how sessions work.\n",
    "\n",
    "## Setup\n",
    "\n",
    "By default, the `SessionsPythonREPLTool` tool uses `DefaultAzureCredential` to authenticate with Azure. Locally, it'll use your credentials from the Azure CLI or VS Code. Install the Azure CLI and log in with `az login` to authenticate.\n",
    "\n",
    "To use the code interpreter you'll also need to create a session pool, which you can do by following the instructions [here](https://learn.microsoft.com/en-us/azure/container-apps/sessions-code-interpreter?tabs=azure-cli#create-a-session-pool-with-azure-cli). Once that's done you should have a pool management session endpoint, which you'll need to set below:"
   ]
  },
  {
   "cell_type": "code",
   "execution_count": 1,
   "metadata": {},
   "source": [
    "import getpass\n",
    "\n",
    "POOL_MANAGEMENT_ENDPOINT = getpass.getpass()"
   ],
   "outputs": []
  },
  {
   "cell_type": "markdown",
   "metadata": {},
   "source": [
    "You'll also need to install the `langchain-azure-dynamic-sessions` package:"
   ]
  },
  {
   "cell_type": "code",
   "execution_count": null,
   "metadata": {},
   "source": [
    "%pip install -qU langchain-azure-dynamic-sessions langchain-openai langchainhub langchain langchain-community"
   ],
   "outputs": []
  },
  {
   "cell_type": "markdown",
   "metadata": {},
   "source": [
    "## Use tool\n",
    "\n",
    "Instantiate and use tool:"
   ]
  },
  {
   "cell_type": "code",
   "execution_count": 2,
   "metadata": {},
   "source": [
    "from langchain_azure_dynamic_sessions import SessionsPythonREPLTool\n",
    "\n",
    "tool = SessionsPythonREPLTool(pool_management_endpoint=POOL_MANAGEMENT_ENDPOINT)\n",
    "tool.invoke(\"6 * 7\")"
   ],
   "outputs": []
  },
  {
   "cell_type": "markdown",
   "metadata": {},
   "source": [
    "Invoking the tool will return a json string with the result of the code, along with any stdout and stderr outputs. To get the raw dictionary results, use the `execute()` method:"
   ]
  },
  {
   "cell_type": "code",
   "execution_count": 3,
   "metadata": {},
   "source": [
    "tool.execute(\"6 * 7\")"
   ],
   "outputs": []
  },
  {
   "cell_type": "markdown",
   "metadata": {},
   "source": [
    "## Upload data\n",
    "\n",
    "If we want to perform computation over specific data, we can use the `upload_file()` functionality to upload data to our session. You can upload data either via the `data: BinaryIO` arg or via the `local_file_path: str` arg (which points to a local file on your system). The data is automatically uploaded to the \"/mnt/data/\" directory in the sessions container. You can get the full file path via the upload metadata returned by `upload_file()`."
   ]
  },
  {
   "cell_type": "code",
   "execution_count": 31,
   "metadata": {},
   "source": [
    "import io\n",
    "import json\n",
    "\n",
    "data = {\"important_data\": [1, 10, -1541]}\n",
    "binary_io = io.BytesIO(json.dumps(data).encode(\"ascii\"))\n",
    "\n",
    "upload_metadata = tool.upload_file(\n",
    "    data=binary_io, remote_file_path=\"important_data.json\"\n",
    ")\n",
    "\n",
    "code = f\"\"\"\n",
    "import json\n",
    "\n",
    "with open(\"{upload_metadata.full_path}\") as f:\n",
    "    data = json.load(f)\n",
    "\n",
    "sum(data['important_data'])\n",
    "\"\"\"\n",
    "tool.execute(code)"
   ],
   "outputs": []
  },
  {
   "cell_type": "markdown",
   "metadata": {},
   "source": [
    "## Handling image results\n",
    "\n",
    "Dynamic sessions results can include image outputs as base64 encoded strings. In these cases the value of 'result' will be a dictionary with keys \"type\" (which will be \"image\"), \"format (the format of the image), and \"base64_data\"."
   ]
  },
  {
   "cell_type": "code",
   "execution_count": 9,
   "metadata": {},
   "source": [
    "code = \"\"\"\n",
    "import numpy as np\n",
    "import matplotlib.pyplot as plt\n",
    "\n",
    "# Generate values for x from -1 to 1\n",
    "x = np.linspace(-1, 1, 400)\n",
    "\n",
    "# Calculate the sine of each x value\n",
    "y = np.sin(x)\n",
    "\n",
    "# Create the plot\n",
    "plt.plot(x, y)\n",
    "\n",
    "# Add title and labels\n",
    "plt.title('Plot of sin(x) from -1 to 1')\n",
    "plt.xlabel('x')\n",
    "plt.ylabel('sin(x)')\n",
    "\n",
    "# Show the plot\n",
    "plt.grid(True)\n",
    "plt.show()\n",
    "\"\"\"\n",
    "\n",
    "result = tool.execute(code)\n",
    "result[\"result\"].keys()"
   ],
   "outputs": []
  },
  {
   "cell_type": "code",
   "execution_count": 10,
   "metadata": {},
   "source": [
    "result[\"result\"][\"type\"], result[\"result\"][\"format\"]"
   ],
   "outputs": []
  },
  {
   "cell_type": "markdown",
   "metadata": {},
   "source": [
    "We can decode the image data and display it:"
   ]
  },
  {
   "cell_type": "code",
   "execution_count": 14,
   "metadata": {},
   "source": [
    "import base64\n",
    "import io\n",
    "\n",
    "from IPython.display import display\n",
    "from PIL import Image\n",
    "\n",
    "base64_str = result[\"result\"][\"base64_data\"]\n",
    "img = Image.open(io.BytesIO(base64.decodebytes(bytes(base64_str, \"utf-8\"))))\n",
    "display(img)"
   ],
   "outputs": []
  },
  {
   "cell_type": "markdown",
   "metadata": {},
   "source": [
    "## Simple agent example"
   ]
  },
  {
   "cell_type": "code",
   "execution_count": 20,
   "metadata": {},
   "source": [
    "from langchain import hub\n",
    "from langchain.agents import AgentExecutor, create_tool_calling_agent\n",
    "from langchain_azure_dynamic_sessions import SessionsPythonREPLTool\n",
    "from langchain_openai import ChatOpenAI\n",
    "\n",
    "llm = ChatOpenAI(model=\"gpt-4o\", temperature=0)\n",
    "prompt = hub.pull(\"hwchase17/openai-functions-agent\")\n",
    "agent = create_tool_calling_agent(llm, [tool], prompt)\n",
    "\n",
    "agent_executor = AgentExecutor(\n",
    "    agent=agent, tools=[tool], verbose=True, handle_parsing_errors=True\n",
    ")\n",
    "\n",
    "response = agent_executor.invoke(\n",
    "    {\n",
    "        \"input\": \"what's sin of pi . if it's negative generate a random number between 0 and 5. if it's positive between 5 and 10.\"\n",
    "    }\n",
    ")"
   ],
   "outputs": []
  },
  {
   "cell_type": "markdown",
   "metadata": {},
   "source": [
    "## LangGraph data analyst agent\n",
    "\n",
    "For a more complex agent example check out the LangGraph data analyst example https://github.com/langchain-ai/langchain/blob/master/cookbook/azure_container_apps_dynamic_sessions_data_analyst.ipynb"
   ]
  },
  {
   "cell_type": "code",
   "execution_count": null,
   "metadata": {},
   "source": [],
   "outputs": []
  }
 ],
 "metadata": {
  "colab": {
   "provenance": []
  },
  "kernelspec": {
   "display_name": "Python 3 (ipykernel)",
   "language": "python",
   "name": "python3"
  },
  "language_info": {
   "codemirror_mode": {
    "name": "ipython",
    "version": 3
   },
   "file_extension": ".py",
   "mimetype": "text/x-python",
   "name": "python",
   "nbconvert_exporter": "python",
   "pygments_lexer": "ipython3",
   "version": "3.9.1"
  }
 },
 "nbformat": 4,
 "nbformat_minor": 4
}
