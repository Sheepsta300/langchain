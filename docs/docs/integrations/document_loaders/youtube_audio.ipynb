{
 "cells": [
  {
   "cell_type": "markdown",
   "id": "e48afb8d",
   "metadata": {},
   "source": [
    "# YouTube audio\n",
    "\n",
    "Building chat or QA applications on YouTube videos is a topic of high interest.\n",
    "\n",
    "Below we show how to easily go from a `YouTube url` to `audio of the video` to `text` to `chat`!\n",
    "\n",
    "We wil use the `OpenAIWhisperParser`, which will use the OpenAI Whisper API to transcribe audio to text, \n",
    "and the  `OpenAIWhisperParserLocal` for local support and running on private clouds or on premise.\n",
    "\n",
    "Note: You will need to have an `OPENAI_API_KEY` supplied."
   ]
  },
  {
   "cell_type": "code",
   "execution_count": 1,
   "id": "5f34e934",
   "metadata": {},
   "source": [
    "from langchain_community.document_loaders.blob_loaders.youtube_audio import (\n",
    "    YoutubeAudioLoader,\n",
    ")\n",
    "from langchain_community.document_loaders.generic import GenericLoader\n",
    "from langchain_community.document_loaders.parsers import (\n",
    "    OpenAIWhisperParser,\n",
    "    OpenAIWhisperParserLocal,\n",
    ")"
   ],
   "outputs": []
  },
  {
   "cell_type": "markdown",
   "id": "85fc12bd",
   "metadata": {},
   "source": [
    "We will use `yt_dlp` to download audio for YouTube urls.\n",
    "\n",
    "We will use `pydub` to split downloaded audio files (such that we adhere to Whisper API's 25MB file size limit)."
   ]
  },
  {
   "cell_type": "code",
   "execution_count": null,
   "id": "fb5a6606",
   "metadata": {},
   "source": [
    "%pip install --upgrade --quiet  yt_dlp\n",
    "%pip install --upgrade --quiet  pydub\n",
    "%pip install --upgrade --quiet  librosa"
   ],
   "outputs": []
  },
  {
   "cell_type": "markdown",
   "id": "b0e119f4",
   "metadata": {},
   "source": [
    "### YouTube url to text\n",
    "\n",
    "Use `YoutubeAudioLoader` to fetch / download the audio files.\n",
    "\n",
    "Then, ues `OpenAIWhisperParser()` to transcribe them to text.\n",
    "\n",
    "Let's take the first lecture of Andrej Karpathy's YouTube course as an example! "
   ]
  },
  {
   "cell_type": "code",
   "execution_count": null,
   "id": "8682f256",
   "metadata": {},
   "source": [
    "# set a flag to switch between local and remote parsing\n",
    "# change this to True if you want to use local parsing\n",
    "local = False"
   ],
   "outputs": []
  },
  {
   "cell_type": "code",
   "execution_count": 2,
   "id": "23e1e134",
   "metadata": {},
   "source": [
    "# Two Karpathy lecture videos\n",
    "urls = [\"https://youtu.be/kCc8FmEb1nY\", \"https://youtu.be/VMj-3S1tku0\"]\n",
    "\n",
    "# Directory to save audio files\n",
    "save_dir = \"~/Downloads/YouTube\"\n",
    "\n",
    "# Transcribe the videos to text\n",
    "if local:\n",
    "    loader = GenericLoader(\n",
    "        YoutubeAudioLoader(urls, save_dir), OpenAIWhisperParserLocal()\n",
    "    )\n",
    "else:\n",
    "    loader = GenericLoader(YoutubeAudioLoader(urls, save_dir), OpenAIWhisperParser())\n",
    "docs = loader.load()"
   ],
   "outputs": []
  },
  {
   "cell_type": "code",
   "execution_count": 3,
   "id": "72a94fd8",
   "metadata": {},
   "source": [
    "# Returns a list of Documents, which can be easily viewed or parsed\n",
    "docs[0].page_content[0:500]"
   ],
   "outputs": []
  },
  {
   "cell_type": "markdown",
   "id": "93be6b49",
   "metadata": {},
   "source": [
    "### Building a chat app from YouTube video\n",
    "\n",
    "Given `Documents`, we can easily enable chat / question+answering."
   ]
  },
  {
   "cell_type": "code",
   "execution_count": 4,
   "id": "1823f042",
   "metadata": {},
   "source": [
    "from langchain.chains import RetrievalQA\n",
    "from langchain_community.vectorstores import FAISS\n",
    "from langchain_openai import ChatOpenAI, OpenAIEmbeddings\n",
    "from langchain_text_splitters import RecursiveCharacterTextSplitter"
   ],
   "outputs": []
  },
  {
   "cell_type": "code",
   "execution_count": 5,
   "id": "7257cda1",
   "metadata": {},
   "source": [
    "# Combine doc\n",
    "combined_docs = [doc.page_content for doc in docs]\n",
    "text = \" \".join(combined_docs)"
   ],
   "outputs": []
  },
  {
   "cell_type": "code",
   "execution_count": 6,
   "id": "147c0c55",
   "metadata": {},
   "source": [
    "# Split them\n",
    "text_splitter = RecursiveCharacterTextSplitter(chunk_size=1500, chunk_overlap=150)\n",
    "splits = text_splitter.split_text(text)"
   ],
   "outputs": []
  },
  {
   "cell_type": "code",
   "execution_count": 7,
   "id": "f3556703",
   "metadata": {},
   "source": [
    "# Build an index\n",
    "embeddings = OpenAIEmbeddings()\n",
    "vectordb = FAISS.from_texts(splits, embeddings)"
   ],
   "outputs": []
  },
  {
   "cell_type": "code",
   "execution_count": 8,
   "id": "beaa99db",
   "metadata": {},
   "source": [
    "# Build a QA chain\n",
    "qa_chain = RetrievalQA.from_chain_type(\n",
    "    llm=ChatOpenAI(model=\"gpt-3.5-turbo\", temperature=0),\n",
    "    chain_type=\"stuff\",\n",
    "    retriever=vectordb.as_retriever(),\n",
    ")"
   ],
   "outputs": []
  },
  {
   "cell_type": "code",
   "execution_count": 9,
   "id": "f2239a62",
   "metadata": {},
   "source": [
    "# Ask a question!\n",
    "query = \"Why do we need to zero out the gradient before backprop at each step?\"\n",
    "qa_chain.run(query)"
   ],
   "outputs": []
  },
  {
   "cell_type": "code",
   "execution_count": 10,
   "id": "a8d01098",
   "metadata": {},
   "source": [
    "query = \"What is the difference between an encoder and decoder?\"\n",
    "qa_chain.run(query)"
   ],
   "outputs": []
  },
  {
   "cell_type": "code",
   "execution_count": 11,
   "id": "fe1e77dd",
   "metadata": {},
   "source": [
    "query = \"For any token, what are x, k, v, and q?\"\n",
    "qa_chain.run(query)"
   ],
   "outputs": []
  }
 ],
 "metadata": {
  "kernelspec": {
   "display_name": "Python 3 (ipykernel)",
   "language": "python",
   "name": "python3"
  },
  "language_info": {
   "codemirror_mode": {
    "name": "ipython",
    "version": 3
   },
   "file_extension": ".py",
   "mimetype": "text/x-python",
   "name": "python",
   "nbconvert_exporter": "python",
   "pygments_lexer": "ipython3",
   "version": "3.10.12"
  },
  "vscode": {
   "interpreter": {
    "hash": "97cc609b13305c559618ec78a438abc56230b9381f827f22d070313b9a1f3777"
   }
  }
 },
 "nbformat": 4,
 "nbformat_minor": 5
}
