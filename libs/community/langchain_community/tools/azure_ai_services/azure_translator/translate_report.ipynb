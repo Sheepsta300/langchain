{
 "cells": [
  {
   "cell_type": "code",
   "id": "initial_id",
   "metadata": {
    "collapsed": true,
    "ExecuteTime": {
     "end_time": "2024-10-18T00:07:34.420688Z",
     "start_time": "2024-10-18T00:07:34.409676Z"
    }
   },
   "source": [
    "import os\n",
    "from dotenv import load_dotenv\n",
    "from libs.community.langchain_community.tools.azure_ai_services.azure_translator.azureTranslate import AzureTranslateTool\n",
    "from langchain_core.prompts import PromptTemplate\n",
    "load_dotenv()  \n"
   ],
   "outputs": [
    {
     "data": {
      "text/plain": [
       "True"
      ]
     },
     "execution_count": 3,
     "metadata": {},
     "output_type": "execute_result"
    }
   ],
   "execution_count": 3
  },
  {
   "metadata": {
    "ExecuteTime": {
     "end_time": "2024-10-18T00:07:34.436413Z",
     "start_time": "2024-10-18T00:07:34.422685Z"
    }
   },
   "cell_type": "code",
   "source": [
    "translate_key = os.getenv('AZURE_TRANSLATE_API_KEY')\n",
    "translate_endpoint = os.getenv('AZURE_TRANSLATE_ENDPOINT')\n",
    "\n",
    "assert translate_key is not None, \"AZURE_OPENAI_TRANSLATE_API_KEY is not set.\"\n",
    "assert translate_endpoint is not None, \"AZURE_OPENAI_TRANSLATE_ENDPOINT is not set.\"\n"
   ],
   "id": "f4e483ba5899b4fc",
   "outputs": [],
   "execution_count": 4
  },
  {
   "metadata": {
    "ExecuteTime": {
     "end_time": "2024-10-18T00:07:34.452421Z",
     "start_time": "2024-10-18T00:07:34.437415Z"
    }
   },
   "cell_type": "code",
   "source": "translator = AzureTranslateTool(translate_key=translate_key, translate_endpoint=translate_endpoint)\n",
   "id": "f70f9002f0ef6914",
   "outputs": [],
   "execution_count": 5
  },
  {
   "metadata": {
    "ExecuteTime": {
     "end_time": "2024-10-18T00:07:34.468125Z",
     "start_time": "2024-10-18T00:07:34.454118Z"
    }
   },
   "cell_type": "code",
   "source": [
    "prompt = PromptTemplate(\n",
    "    input_variables=[\"input\"],\n",
    "    template=\"You are a translation agent. Use the translation tool to translate the following input: {input}\"\n",
    ")\n"
   ],
   "id": "1bbe14d2cf4270",
   "outputs": [],
   "execution_count": 6
  },
  {
   "metadata": {
    "ExecuteTime": {
     "end_time": "2024-10-18T00:07:34.484129Z",
     "start_time": "2024-10-18T00:07:34.469126Z"
    }
   },
   "cell_type": "code",
   "source": [
    "def translate_text(input_text, target_language='es'):\n",
    "    try:\n",
    "        # Run the translation\n",
    "        translated_text = translator._run(input_text, target_language)\n",
    "        \n",
    "        # Format the result in a dictionary\n",
    "        result = {\n",
    "            'input': input_text,\n",
    "            'output': f\"The text '{input_text}' was translated to '{translated_text}' in {target_language}.\"\n",
    "        }\n",
    "        return result\n",
    "    except Exception as e:\n",
    "        return {'error': str(e)}\n"
   ],
   "id": "86b2cb9901bb7396",
   "outputs": [],
   "execution_count": 7
  },
  {
   "metadata": {
    "ExecuteTime": {
     "end_time": "2024-10-18T00:07:35.344138Z",
     "start_time": "2024-10-18T00:07:34.485130Z"
    }
   },
   "cell_type": "code",
   "source": [
    "# Sample text to translate\n",
    "sample_text = \"This is an example of the translation tool made by Capstone Project Team 3\"\n",
    "# Target language\n",
    "target_language = 'fr' \n",
    "# Perform translation using the defined function\n",
    "translated_result = translate_text(sample_text, target_language)\n",
    "print(f\"Original Text: {translated_result['input']}\")\n",
    "print(f\"Translated to {target_language}: {translated_result['output']}\")\n"
   ],
   "id": "7363aa6423f0b03a",
   "outputs": [
    {
     "name": "stderr",
     "output_type": "stream",
     "text": [
      "ERROR:libs.community.langchain_community.tools.azure_ai_services.azure_translator.azureTranslate:Translation failed: (401001) The request is not authorized because credentials are missing or invalid.\n",
      "Code: 401001\n",
      "Message: The request is not authorized because credentials are missing or invalid.\n"
     ]
    },
    {
     "ename": "KeyError",
     "evalue": "'input'",
     "output_type": "error",
     "traceback": [
      "\u001B[1;31m---------------------------------------------------------------------------\u001B[0m",
      "\u001B[1;31mKeyError\u001B[0m                                  Traceback (most recent call last)",
      "Cell \u001B[1;32mIn[8], line 7\u001B[0m\n\u001B[0;32m      5\u001B[0m \u001B[38;5;66;03m# Perform translation using the defined function\u001B[39;00m\n\u001B[0;32m      6\u001B[0m translated_result \u001B[38;5;241m=\u001B[39m translate_text(sample_text, target_language)\n\u001B[1;32m----> 7\u001B[0m \u001B[38;5;28mprint\u001B[39m(\u001B[38;5;124mf\u001B[39m\u001B[38;5;124m\"\u001B[39m\u001B[38;5;124mOriginal Text: \u001B[39m\u001B[38;5;132;01m{\u001B[39;00mtranslated_result[\u001B[38;5;124m'\u001B[39m\u001B[38;5;124minput\u001B[39m\u001B[38;5;124m'\u001B[39m]\u001B[38;5;132;01m}\u001B[39;00m\u001B[38;5;124m\"\u001B[39m)\n\u001B[0;32m      8\u001B[0m \u001B[38;5;28mprint\u001B[39m(\u001B[38;5;124mf\u001B[39m\u001B[38;5;124m\"\u001B[39m\u001B[38;5;124mTranslated to \u001B[39m\u001B[38;5;132;01m{\u001B[39;00mtarget_language\u001B[38;5;132;01m}\u001B[39;00m\u001B[38;5;124m: \u001B[39m\u001B[38;5;132;01m{\u001B[39;00mtranslated_result[\u001B[38;5;124m'\u001B[39m\u001B[38;5;124moutput\u001B[39m\u001B[38;5;124m'\u001B[39m]\u001B[38;5;132;01m}\u001B[39;00m\u001B[38;5;124m\"\u001B[39m)\n",
      "\u001B[1;31mKeyError\u001B[0m: 'input'"
     ]
    }
   ],
   "execution_count": 8
  }
 ],
 "metadata": {
  "kernelspec": {
   "display_name": "Python 3",
   "language": "python",
   "name": "python3"
  },
  "language_info": {
   "codemirror_mode": {
    "name": "ipython",
    "version": 2
   },
   "file_extension": ".py",
   "mimetype": "text/x-python",
   "name": "python",
   "nbconvert_exporter": "python",
   "pygments_lexer": "ipython2",
   "version": "2.7.6"
  }
 },
 "nbformat": 4,
 "nbformat_minor": 5
}
