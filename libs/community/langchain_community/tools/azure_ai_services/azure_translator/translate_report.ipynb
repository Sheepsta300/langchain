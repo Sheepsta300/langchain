{
 "cells": [
  {
   "cell_type": "code",
   "id": "initial_id",
   "metadata": {
    "collapsed": true,
    "ExecuteTime": {
     "end_time": "2024-09-24T23:42:59.679284Z",
     "start_time": "2024-09-24T23:42:59.661284Z"
    }
   },
   "source": [
    "import os\n",
    "from dotenv import load_dotenv\n",
    "from libs.community.langchain_community.tools.azure_ai_services.azure_translator.azureTranslate import AzureTranslateTool\n",
    "from langchain_core.prompts import PromptTemplate\n",
    "load_dotenv()  \n"
   ],
   "outputs": [
    {
     "data": {
      "text/plain": [
       "True"
      ]
     },
     "execution_count": 7,
     "metadata": {},
     "output_type": "execute_result"
    }
   ],
   "execution_count": 7
  },
  {
   "metadata": {
    "ExecuteTime": {
     "end_time": "2024-09-24T23:42:59.695285Z",
     "start_time": "2024-09-24T23:42:59.681287Z"
    }
   },
   "cell_type": "code",
   "source": [
    "translate_key = os.getenv('AZURE_OPENAI_TRANSLATE_API_KEY')\n",
    "translate_endpoint = os.getenv('AZURE_OPENAI_TRANSLATE_ENDPOINT')\n",
    "\n",
    "assert translate_key is not None, \"AZURE_OPENAI_TRANSLATE_API_KEY is not set.\"\n",
    "assert translate_endpoint is not None, \"AZURE_OPENAI_TRANSLATE_ENDPOINT is not set.\"\n"
   ],
   "id": "f4e483ba5899b4fc",
   "outputs": [],
   "execution_count": 8
  },
  {
   "metadata": {
    "ExecuteTime": {
     "end_time": "2024-09-24T23:42:59.711286Z",
     "start_time": "2024-09-24T23:42:59.696285Z"
    }
   },
   "cell_type": "code",
   "source": "translator = AzureTranslateTool(translate_key=translate_key, translate_endpoint=translate_endpoint)\n",
   "id": "f70f9002f0ef6914",
   "outputs": [],
   "execution_count": 9
  },
  {
   "metadata": {
    "ExecuteTime": {
     "end_time": "2024-09-24T23:42:59.727289Z",
     "start_time": "2024-09-24T23:42:59.714287Z"
    }
   },
   "cell_type": "code",
   "source": [
    "prompt = PromptTemplate(\n",
    "    input_variables=[\"input\"],\n",
    "    template=\"You are a translation agent. Use the translation tool to translate the following input: {input}\"\n",
    ")\n"
   ],
   "id": "1bbe14d2cf4270",
   "outputs": [],
   "execution_count": 10
  },
  {
   "metadata": {
    "ExecuteTime": {
     "end_time": "2024-09-24T23:42:59.743285Z",
     "start_time": "2024-09-24T23:42:59.728287Z"
    }
   },
   "cell_type": "code",
   "source": [
    "def translate_text(input_text, target_language='es'):\n",
    "    try:\n",
    "        # Run the translation\n",
    "        translated_text = translator._run(input_text, target_language)\n",
    "        \n",
    "        # Format the result in a dictionary\n",
    "        result = {\n",
    "            'input': input_text,\n",
    "            'output': f\"The text '{input_text}' was translated to '{translated_text}' in {target_language}.\"\n",
    "        }\n",
    "        return result\n",
    "    except Exception as e:\n",
    "        return {'error': str(e)}\n"
   ],
   "id": "86b2cb9901bb7396",
   "outputs": [],
   "execution_count": 11
  },
  {
   "metadata": {
    "ExecuteTime": {
     "end_time": "2024-09-24T23:43:00.740025Z",
     "start_time": "2024-09-24T23:42:59.744289Z"
    }
   },
   "cell_type": "code",
   "source": [
    "# Sample text to translate\n",
    "sample_text = \"This is an example of the translation tool made by Capstone Project Team 3\"\n",
    "# Target language\n",
    "target_language = 'fr' \n",
    "# Perform translation using the defined function\n",
    "translated_result = translate_text(sample_text, target_language)\n",
    "print(f\"Original Text: {translated_result['input']}\")\n",
    "print(f\"Translated to {target_language}: {translated_result['output']}\")\n"
   ],
   "id": "7363aa6423f0b03a",
   "outputs": [
    {
     "name": "stdout",
     "output_type": "stream",
     "text": [
      "Original Text: This is an example of the translation tool made by Capstone Project Team 3\n",
      "Translated to fr: The text 'This is an example of the translation tool made by Capstone Project Team 3' was translated to 'Voici un exemple de l’outil de traduction réalisé par l’équipe de projet 3 de Capstone' in fr.\n"
     ]
    }
   ],
   "execution_count": 12
  }
 ],
 "metadata": {
  "kernelspec": {
   "display_name": "Python 3",
   "language": "python",
   "name": "python3"
  },
  "language_info": {
   "codemirror_mode": {
    "name": "ipython",
    "version": 2
   },
   "file_extension": ".py",
   "mimetype": "text/x-python",
   "name": "python",
   "nbconvert_exporter": "python",
   "pygments_lexer": "ipython2",
   "version": "2.7.6"
  }
 },
 "nbformat": 4,
 "nbformat_minor": 5
}
